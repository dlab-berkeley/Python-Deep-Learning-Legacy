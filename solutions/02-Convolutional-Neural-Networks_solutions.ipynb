{
 "cells": [
  {
   "cell_type": "markdown",
   "id": "8b6a3546",
   "metadata": {},
   "source": [
    "## Challenge 1: Plotting Image Classes\n",
    "\n",
    "Create a new function `my_imageplotter()` that uses the correct class name for the target classes (truck, horse, etc..).\n",
    "\n",
    "- Use the above function `plot_25_images_classes()` as a starting point!\n",
    "\n",
    "- Use the [keras CIFAR10 documentation](https://keras.io/api/datasets/cifar10/) as a guide to understand how the labeled classes."
   ]
  },
  {
   "cell_type": "code",
   "execution_count": null,
   "id": "7939d087",
   "metadata": {},
   "outputs": [],
   "source": [
    "def plot_25_images_classes(x, y, random=False):\n",
    "    \"\"\"\n",
    "    Plots 25 images from x data with titles set as y.\n",
    "    Set random=True if you want\n",
    "    \"\"\"\n",
    "    \n",
    "    if random:\n",
    "        indices = np.random.choice(range(y.shape[0]), 25, replace=False)\n",
    "    \n",
    "    else:\n",
    "        indices = np.array(range(25))\n",
    "    \n",
    "    fig, axes = plt.subplots(5,5, figsize = (15,15))\n",
    "    axes = axes.ravel()\n",
    "    \n",
    "    for ax, index in zip(axes, indices):\n",
    "        ax.imshow(x[index])\n",
    "        ax.set_title(f\"Class: {y[index][0]}\", size=15)\n",
    "    \n",
    "    plt.tight_layout()\n",
    "    \n",
    "    return plt.show()\n",
    "\n"
   ]
  }
 ],
 "metadata": {
  "kernelspec": {
   "display_name": "Python 3 (ipykernel)",
   "language": "python",
   "name": "python3"
  },
  "language_info": {
   "codemirror_mode": {
    "name": "ipython",
    "version": 3
   },
   "file_extension": ".py",
   "mimetype": "text/x-python",
   "name": "python",
   "nbconvert_exporter": "python",
   "pygments_lexer": "ipython3",
   "version": "3.9.10"
  }
 },
 "nbformat": 4,
 "nbformat_minor": 5
}
