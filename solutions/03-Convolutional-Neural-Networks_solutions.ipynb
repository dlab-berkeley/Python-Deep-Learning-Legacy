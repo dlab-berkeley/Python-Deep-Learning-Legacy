{
 "cells": [
  {
   "cell_type": "markdown",
   "id": "4baa6f63",
   "metadata": {},
   "source": [
    "## Challenge 1: Translate Classes\n",
    "\n",
    "Create a function `translate_class()` that uses the correct class name for the target classes (truck, horse, etc..).\n",
    "- Use the [keras CIFAR10 documentation](https://keras.io/api/datasets/cifar10/) as a guide to know how the classes are labeled.\n",
    "- The function should take a class index [0-9]\n",
    "- The function should return the correct corresponding CIFAR10 class category."
   ]
  },
  {
   "cell_type": "code",
   "execution_count": null,
   "id": "4749221a",
   "metadata": {},
   "outputs": [],
   "source": [
    "def translate_class(y):\n",
    "    \"\"\"\n",
    "    Takes a class index [0-9] and returns the CIFAR10 class category.\n",
    "    \"\"\"\n",
    "    # Create a list of categories\n",
    "    categories = [\"airplane\", \n",
    "                 \"automobile\",\n",
    "                 \"bird\",\n",
    "                 \"cat\",\n",
    "                 \"deer\",\n",
    "                 \"dog\",\n",
    "                 \"frog\",\n",
    "                 \"horse\",\n",
    "                 \"ship\",\n",
    "                 \"truck\"]\n",
    "    \n",
    "    return categories[y]\n",
    "    \n",
    "    \n",
    "def translate_classes_fancy(y):\n",
    "    \"\"\"\n",
    "    Use a key-value paired dictionary to translate target class\n",
    "    \"\"\"\n",
    "    # Create a list of categories\n",
    "    categories = [\"airplane\", \n",
    "                 \"automobile\",\n",
    "                 \"bird\",\n",
    "                 \"cat\",\n",
    "                 \"deer\",\n",
    "                 \"dog\",\n",
    "                 \"frog\",\n",
    "                 \"horse\",\n",
    "                 \"ship\",\n",
    "                 \"truck\"]\n",
    "    \n",
    "    # Use a dictionary comprehesion to attach class number to category\n",
    "    category_dict = {key : value for key, value in zip(list(range(10)), categories)}\n",
    "    \n",
    "    return category_dict[y]"
   ]
  },
  {
   "cell_type": "markdown",
   "id": "29c4d69c",
   "metadata": {},
   "source": [
    "## Challenge 2: Plotting Image Classes\n",
    "\n",
    "Create a new function `my_imageplotter()` that reuses code from our `plot_images()` function and incorporates the `translate_class()` function to give us the correct class titles in our images."
   ]
  },
  {
   "cell_type": "code",
   "execution_count": null,
   "id": "54b9ba8b",
   "metadata": {},
   "outputs": [],
   "source": [
    "def my_imageplotter(x, y, random=False):\n",
    "    \"\"\"\n",
    "    Plots 25 images from x data with titles set as y.\n",
    "    Set random=True if you want random images rather than the first 25.\n",
    "    \"\"\"\n",
    "    \n",
    "    if random:\n",
    "        indices = np.random.choice(range(y.shape[0]), 25, replace=False)\n",
    "    \n",
    "    else:\n",
    "        indices = np.array(range(25))\n",
    "    \n",
    "    fig, axes = plt.subplots(5,5, figsize = (15,15))\n",
    "    axes = axes.ravel()\n",
    "    \n",
    "    for ax, index in zip(axes, indices):\n",
    "        # NEW LINE HERE\n",
    "        title = translate_class(y[index][0])\n",
    "        ax.imshow(x[index])\n",
    "        ax.set_title(f\"Class: {title}\", size=15)\n",
    "    \n",
    "    plt.tight_layout()\n",
    "    \n",
    "    return plt.show()"
   ]
  },
  {
   "cell_type": "markdown",
   "id": "be2f551f",
   "metadata": {},
   "source": [
    "## Challenge 3: Create a Convolutional Neural Network\n",
    "\n",
    "1. Initialize a Convolutional Neural Network called `my_convnet` with the following architecture:\n",
    "    * Conv2D layer with 32 3x3 filters and relu activation function\n",
    "    * Maxpooling layer 2x2\n",
    "    * Conv2D layer with 64 3x3 filters and relu activation function\n",
    "    * Maxpooling layer 2x2\n",
    "    * Conv2D layer with 128 3x3 filters and relu activation function\n",
    "    * Maxpooling layer wtih a pool size of 2x2\n",
    "    * A flattening layer\n",
    "    * A dense layer with 512 neurons  and relu activation function\n",
    "    * An output layer with the number of classes and softmax activation function\n",
    "\n",
    "2. Compile with the model with:\n",
    "    * rmsprop optimizer\n",
    "    * categorical crossentropy loss\n",
    "    * accuracy metric\n",
    "\n",
    "3. Train the network for 20 epochs.\n",
    "\n",
    "4. Plot the training and validation accuracy through each epoch\n"
   ]
  },
  {
   "cell_type": "code",
   "execution_count": null,
   "id": "0c88e660",
   "metadata": {},
   "outputs": [],
   "source": [
    "# 3.1 Initialize a Convolutional Neural Network called `my_convnet`\n",
    "my_convnet.add(layers.Conv2D(32, (3,3), activation= \"relu\", input_shape = (32, 32, 3)))\n",
    "my_convnet.add(layers.MaxPooling2D(pool_size=(2, 2)))\n",
    "my_convnet.add(layers.Conv2D(64, (3,3), activation= \"relu\"))\n",
    "my_convnet.add(layers.MaxPooling2D(pool_size=(2, 2)))\n",
    "my_convnet.add(layers.Conv2D(128, (3,3), activation= \"relu\"))\n",
    "my_convnet.add(layers.MaxPooling2D(pool_size=(2, 2)))\n",
    "\n",
    "# Flatten for dense layers\n",
    "my_convnet.add(layers.Flatten())\n",
    "my_convnet.add(layers.Dense(512, activation= \"relu\"))\n",
    "my_convnet.add(layers.Dense(10, activation= \"softmax\"))\n"
   ]
  },
  {
   "cell_type": "code",
   "execution_count": null,
   "id": "40911e67",
   "metadata": {},
   "outputs": [],
   "source": [
    "# 3.2 Compile model\n",
    "my_convnet.compile(optimizer= \"rmsprop\",\n",
    "                   loss= \"categorical_crossentropy\",\n",
    "                   metrics= [\"accuracy\"])"
   ]
  },
  {
   "cell_type": "code",
   "execution_count": null,
   "id": "37491775",
   "metadata": {},
   "outputs": [],
   "source": [
    "# 3.3 Train the network for 20 epochs\n",
    "my_convnet_history = my_convnet.fit(x_train_trans,\n",
    "                             y_train_trans,\n",
    "                             epochs=20,\n",
    "                             batch_size = 64,\n",
    "                             validation_data=(x_val_trans, y_val_trans))"
   ]
  },
  {
   "cell_type": "code",
   "execution_count": null,
   "id": "340f6d0b",
   "metadata": {},
   "outputs": [],
   "source": [
    "# 3.4 Plot accuracy through epochs\n",
    "plot_epoch_accuracy(my_convnet_history.history)"
   ]
  }
 ],
 "metadata": {
  "kernelspec": {
   "display_name": "Python 3 (ipykernel)",
   "language": "python",
   "name": "python3"
  },
  "language_info": {
   "codemirror_mode": {
    "name": "ipython",
    "version": 3
   },
   "file_extension": ".py",
   "mimetype": "text/x-python",
   "name": "python",
   "nbconvert_exporter": "python",
   "pygments_lexer": "ipython3",
   "version": "3.9.10"
  }
 },
 "nbformat": 4,
 "nbformat_minor": 5
}
