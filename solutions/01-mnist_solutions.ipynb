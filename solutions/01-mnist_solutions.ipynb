{
 "cells": [
  {
   "cell_type": "code",
   "execution_count": null,
   "metadata": {},
   "outputs": [],
   "source": [
    "# Challenge 1 Solutions"
   ]
  },
  {
   "cell_type": "code",
   "execution_count": null,
   "metadata": {},
   "outputs": [],
   "source": [
    "# 1.1 Why do we use split our data into train/validation/test?\n",
    "# We need to train our model and avoid overfitting.\n",
    "\n",
    "# We use the training set to fit the model.\n",
    "# We use the validation set to update our model.\n",
    "# We use the holdout test set to determine our final performance. "
   ]
  },
  {
   "cell_type": "code",
   "execution_count": null,
   "metadata": {},
   "outputs": [],
   "source": [
    "# 1.2 What is the shape of our input data partitions and what do they represent?\n",
    "\n",
    "# The training set contains 5000 examples\n",
    "# The validation set contains 1000 examples \n",
    "# The test set contains 1000 examples\n",
    "# The X are 3-dimensional\n",
    "# The y are 1 dimensional"
   ]
  },
  {
   "cell_type": "code",
   "execution_count": null,
   "metadata": {},
   "outputs": [],
   "source": [
    "# 1.3\n",
    "[type(partition) for partition in [x_train, y_train, x_val, y_val, x_test, y_test]]\n",
    "# All are numpy arrays"
   ]
  },
  {
   "cell_type": "code",
   "execution_count": null,
   "metadata": {},
   "outputs": [],
   "source": [
    "# BONUS 1.4\n",
    "\n",
    "# Simply plot the histogram of each y in a different cell, for example\n",
    "# plt.hist(y_train)\n",
    "# plt.title('Train Class Distribution');\n",
    "# repeat for y_val and y_test\n",
    " \n",
    "# or make subplots\n",
    "def plot_target_distributions(targets, titles):\n",
    "    \"\"\"\n",
    "    Returns the distribution of target classes.\n",
    "    \"\"\"\n",
    "    \n",
    "    fig, axes = plt.subplots(3,1, figsize = (10,10))\n",
    "    \n",
    "    for ax, target, title in zip(axes, targets, titles):\n",
    "        ax.hist(target) \n",
    "        ax.set_title(f\"{title} Class Distribution\")\n",
    "    \n",
    "    return plt.show()\n",
    "\n",
    "plot_target_distributions([y_train, y_val, y_test], [\"Train\", \"Validation\", \"Test\"])\n",
    "    "
   ]
  },
  {
   "cell_type": "code",
   "execution_count": null,
   "metadata": {},
   "outputs": [],
   "source": [
    "# Challenge 2 Solutions"
   ]
  },
  {
   "cell_type": "code",
   "execution_count": null,
   "metadata": {},
   "outputs": [],
   "source": [
    "# Challenge 3 Solutions"
   ]
  }
 ],
 "metadata": {
  "language_info": {
   "name": "python"
  },
  "orig_nbformat": 4
 },
 "nbformat": 4,
 "nbformat_minor": 2
}
