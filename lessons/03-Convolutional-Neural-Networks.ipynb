{
 "cells": [
  {
   "cell_type": "markdown",
   "id": "d434da15",
   "metadata": {},
   "source": [
    "# Convolutional Neural Networks\n",
    "\n",
    "**Time**\n",
    "- Teaching: 1.5 hours\n",
    "- Challenges: 30 minutes\n",
    "\n",
    "**Questions**\n",
    "- \"What is CIFAR10 and how does the modeling process and challenges differ from MNIST?\"\n",
    "- \"How do convolutional neural networks differ from vanilla neural networks?\"\n",
    "- \"How do we write python code to develop convolutional neural networks?\"\n",
    "- \"What options do we have to train large models if my personal machine can't handle it?\"\n",
    "\n",
    "\n",
    "**Learning Objectives**\n",
    "- \"Understand the process of data preprocessing for deep learning.\"\n",
    "- \"Build python functions that help us process and visualize our data.\"\n",
    "- \"Take a peek at the machinery underlying convolutional neural networks.\"\n",
    "- \"Understand the hardware constrains in deep learning.\"\n",
    "\n",
    "* * * * *"
   ]
  },
  {
   "cell_type": "markdown",
   "id": "f26b2889",
   "metadata": {},
   "source": [
    "## Import packages\n",
    "\n",
    "For this notebook, instead of importing only specific functions, we will also import modules that contain functions.\n",
    "\n",
    "**Old way:**\n",
    "\n",
    "`from keras.layers import Dense`\n",
    "\n",
    "`model.add(Dense(...))`\n",
    "\n",
    "**New way:**\n",
    "\n",
    "`from keras import layers`\n",
    "\n",
    "`model.add(layers.Dense(...))`\n",
    "\n",
    "But why change it up? I had trouble myself in the past understanding the way modules work, so code would break due simply to the way imports were done. Let's avoid that by getting comfortable with python modules!"
   ]
  },
  {
   "cell_type": "code",
   "execution_count": null,
   "id": "339f88d8",
   "metadata": {},
   "outputs": [],
   "source": [
    "from keras import layers\n",
    "from keras import models\n",
    "from keras.datasets import cifar10\n",
    "from tensorflow.keras.utils import to_categorical\n",
    "from keras.preprocessing.image import ImageDataGenerator"
   ]
  },
  {
   "cell_type": "code",
   "execution_count": null,
   "id": "f9a5eee2",
   "metadata": {},
   "outputs": [],
   "source": [
    "import numpy as np\n",
    "import matplotlib.pyplot as plt"
   ]
  },
  {
   "cell_type": "markdown",
   "id": "c1358987",
   "metadata": {},
   "source": [
    "### CIFAR10\n",
    "\n",
    "So we get sidetracked at work and we want to instead build a classifier for animals and vehicles!\n",
    "\n",
    "We shop around and find an interesting image dataset called [CIFAR10](https://www.cs.toronto.edu/~kriz/cifar.html).\n",
    "\n",
    "This dataset consists of:\n",
    "- 60,000 total images\n",
    "- 10 classes (6,000 images per class)\n",
    "\n",
    "Example images of each class are shown below:\n",
    "\n",
    "![CIFAR10 classes](https://maet3608.github.io/nuts-ml/_images/cifar10.png)"
   ]
  },
  {
   "cell_type": "markdown",
   "id": "e06b0fa1",
   "metadata": {},
   "source": [
    "### Loading the dataset"
   ]
  },
  {
   "cell_type": "code",
   "execution_count": null,
   "id": "bb4074f2",
   "metadata": {},
   "outputs": [],
   "source": [
    "def load_cifar10(subset = True):\n",
    "    \"\"\"\n",
    "    Loads a training, validation, and test set of CIFAR10 images.\n",
    "    \n",
    "    When subset=TRUE:\n",
    "    Returns only a subset of the mnist dataset.\n",
    "    Especially important to use if you are on datahub and only have 1-2GB of memory.\n",
    "    \"\"\"\n",
    "    if subset:\n",
    "        N_TRAIN = 8000\n",
    "        N_VALIDATION = 2000\n",
    "        N_TEST = 2000\n",
    "    else:\n",
    "        N_TRAIN = 40000\n",
    "        N_VALIDATION = 10000\n",
    "        N_TEST = 10000\n",
    "    \n",
    "    (x_train_and_val, y_train_and_val), (x_test, y_test) = cifar10.load_data()\n",
    "    \n",
    "    x_train = x_train_and_val[:N_TRAIN,:,:]\n",
    "    y_train = y_train_and_val[:N_TRAIN]\n",
    "    \n",
    "    x_val = x_train_and_val[N_TRAIN: N_TRAIN + N_VALIDATION,:,:]\n",
    "    y_val = y_train_and_val[N_TRAIN: N_TRAIN + N_VALIDATION]\n",
    "    \n",
    "    x_test = x_test[:N_TEST]\n",
    "    y_test = y_test[:N_TEST]\n",
    "    \n",
    "    return x_train, y_train, x_val, y_val, x_test, y_test\n",
    "    "
   ]
  },
  {
   "cell_type": "code",
   "execution_count": null,
   "id": "7b14bae8",
   "metadata": {},
   "outputs": [],
   "source": [
    "x_train, y_train, x_val, y_val, x_test, y_test = load_cifar10()"
   ]
  },
  {
   "cell_type": "markdown",
   "id": "0dbf7c22",
   "metadata": {},
   "source": [
    "### Input Data Due Dillegence\n",
    "\n",
    "We will borrow some of our previous functions in order to get a feel for CIFAR10."
   ]
  },
  {
   "cell_type": "code",
   "execution_count": null,
   "id": "e9206452",
   "metadata": {},
   "outputs": [],
   "source": [
    "def data_summary(data):\n",
    "    \"\"\"\n",
    "    Takes a list of our data partitions and returns the shape.\n",
    "    \"\"\"\n",
    "    \n",
    "    for i, data_partition in enumerate(data):\n",
    "        if i == 0:\n",
    "            print(\"Training Data\")\n",
    "        elif i == 2:\n",
    "            print()\n",
    "            print(\"Validation Data\")\n",
    "        elif i == 4:\n",
    "            print()\n",
    "            print(\"Testing Data\")\n",
    "\n",
    "        print(f\"Shape: {data_partition.shape}\")"
   ]
  },
  {
   "cell_type": "code",
   "execution_count": null,
   "id": "4efbae49",
   "metadata": {},
   "outputs": [],
   "source": [
    "data_summary([x_train, y_train, x_val, y_val, x_test, y_test])"
   ]
  },
  {
   "cell_type": "code",
   "execution_count": null,
   "id": "0dd71db1",
   "metadata": {},
   "outputs": [],
   "source": [
    "one_image = x_train[0]\n",
    "one_image.shape"
   ]
  },
  {
   "cell_type": "code",
   "execution_count": null,
   "id": "23a92346",
   "metadata": {
    "scrolled": true
   },
   "outputs": [],
   "source": [
    "plt.imshow(one_image);"
   ]
  },
  {
   "cell_type": "markdown",
   "id": "d2c1651f",
   "metadata": {},
   "source": [
    "Can you tell what the class of the image above is!?\n",
    "\n",
    "Let's show more images with their correct class from the CIFAR10 dataset!"
   ]
  },
  {
   "cell_type": "code",
   "execution_count": null,
   "id": "cda0e803",
   "metadata": {},
   "outputs": [],
   "source": [
    "def plot_images(x, y, random=False):\n",
    "    \"\"\"\n",
    "    Plots 25 images from x data with titles set as y.\n",
    "    Set random=True if you want random images rather than the first 25.\n",
    "    \"\"\"\n",
    "    \n",
    "    if random:\n",
    "        indices = np.random.choice(range(y.shape[0]), 25, replace=False)\n",
    "    \n",
    "    else:\n",
    "        indices = np.array(range(25))\n",
    "    \n",
    "    fig, axes = plt.subplots(5,5, figsize = (15,15))\n",
    "    axes = axes.ravel()\n",
    "    \n",
    "    for ax, index in zip(axes, indices):\n",
    "        ax.imshow(x[index])\n",
    "        ax.set_title(f\"Class: {y[index][0]}\", size=15)\n",
    "    \n",
    "    plt.tight_layout()\n",
    "    \n",
    "    return plt.show()"
   ]
  },
  {
   "cell_type": "code",
   "execution_count": null,
   "id": "7274e165",
   "metadata": {},
   "outputs": [],
   "source": [
    "plot_images(x_train, y_train)"
   ]
  },
  {
   "cell_type": "markdown",
   "id": "72e6ea76",
   "metadata": {},
   "source": [
    "Oh no, the class labels are just digits!"
   ]
  },
  {
   "cell_type": "markdown",
   "id": "4f040bc6",
   "metadata": {},
   "source": [
    "## Challenge 1: Translate Classes\n",
    "\n",
    "Create a function `translate_class()` that uses the correct class name for the target classes (truck, horse, etc..).\n",
    "- Use the [keras CIFAR10 documentation](https://keras.io/api/datasets/cifar10/) as a guide to know how the classes are labeled.\n",
    "- The function should take a class index [0-9]\n",
    "- The function should return the correct corresponding CIFAR10 class category."
   ]
  },
  {
   "cell_type": "code",
   "execution_count": null,
   "id": "40be335a",
   "metadata": {},
   "outputs": [],
   "source": [
    "def translate_class(class_integer):\n",
    "    # Your code here\n",
    "    return None"
   ]
  },
  {
   "cell_type": "markdown",
   "id": "8f3b995e",
   "metadata": {},
   "source": [
    "## Challenge 2: Plotting Image Classes\n",
    "\n",
    "Create a new function `my_imageplotter()` that reuses code from our `plot_images()` function and incorporates the `translate_class()` function to give us the correct class titles in our images."
   ]
  },
  {
   "cell_type": "code",
   "execution_count": null,
   "id": "e6d0dcfa",
   "metadata": {
    "scrolled": true
   },
   "outputs": [],
   "source": [
    "def my_imageplotter(x, y, random=False):\n",
    "    \"\"\"\n",
    "    Plots 25 images from x data with titles set as y.\n",
    "    Set random=True if you want random images rather than the first 25.\n",
    "    \"\"\"\n",
    "    \n",
    "    # Add code to this function that translates the image class!\n",
    "    \n",
    "    if random:\n",
    "        indices = np.random.choice(range(y.shape[0]), 25, replace=False)\n",
    "    \n",
    "    else:\n",
    "        indices = np.array(range(25))\n",
    "    \n",
    "    fig, axes = plt.subplots(5,5, figsize = (15,15))\n",
    "    axes = axes.ravel()\n",
    "    \n",
    "    for ax, index in zip(axes, indices):\n",
    "        ax.imshow(x[index])\n",
    "        ax.set_title(f\"Class: {y[index][0]}\", size=15)\n",
    "    \n",
    "    plt.tight_layout()\n",
    "    \n",
    "    return plt.show()"
   ]
  },
  {
   "cell_type": "markdown",
   "id": "97d5d98c",
   "metadata": {},
   "source": [
    "Test your function below!"
   ]
  },
  {
   "cell_type": "code",
   "execution_count": null,
   "id": "ecd13b7f",
   "metadata": {},
   "outputs": [],
   "source": [
    "my_imageplotter(x_train, y_train)"
   ]
  },
  {
   "cell_type": "markdown",
   "id": "e74b3685",
   "metadata": {},
   "source": [
    "Let's make sure we have balanced class distributions."
   ]
  },
  {
   "cell_type": "code",
   "execution_count": null,
   "id": "ef11d82a",
   "metadata": {},
   "outputs": [],
   "source": [
    "def plot_target_distributions(targets, titles):\n",
    "    \"\"\"\n",
    "    Returns the distribution of target classes.\n",
    "    \"\"\"\n",
    "    \n",
    "    fig, axes = plt.subplots(3,1, figsize = (10,10))\n",
    "    \n",
    "    for ax, target, title in zip(axes, targets, titles):\n",
    "        ax.hist(target) \n",
    "        ax.set_title(f\"{title} Class Distribution\")\n",
    "    \n",
    "    return plt.show()"
   ]
  },
  {
   "cell_type": "code",
   "execution_count": null,
   "id": "336aab80",
   "metadata": {},
   "outputs": [],
   "source": [
    "plot_target_distributions([y_train, y_val, y_test], [\"Train\", \"Validation\", \"Test\"])"
   ]
  },
  {
   "cell_type": "markdown",
   "id": "04bda62d",
   "metadata": {},
   "source": [
    "Before writing code to build a convolutional neural network, let's quickly review what the significance a convolutional neural network is, the convolutional layer."
   ]
  },
  {
   "cell_type": "markdown",
   "id": "3a227afc",
   "metadata": {},
   "source": [
    "#### Convolutional layers\n",
    "As reviewed in our slides, convolutional layers contain *filters* that we *stride* along our image to find matching patterns, producing a *response map*. \n",
    "\n",
    "![title](https://qph.fs.quoracdn.net/main-qimg-6428cf505ac1e9e1cf462e1ec8fe9a68)\n",
    "- The green boxes represent the pixels in our input image.\n",
    "- The yellow boxes represent the *filter*.\n",
    "- The movement of the filter represents the *stride*.\n",
    "- The red boxes represent our *response map*."
   ]
  },
  {
   "cell_type": "markdown",
   "id": "43c36700",
   "metadata": {},
   "source": [
    "### Data Transformation"
   ]
  },
  {
   "cell_type": "markdown",
   "id": "d1dcbed5",
   "metadata": {},
   "source": [
    "Notice that the input dimensions of our images in convolutional neural networks do not to be flattened to one dimension. Instead, we can have multidimensional input data which is perfect for our 3-dimensional pixel data (row pixel, column pixel, channel).\n",
    "\n",
    "Let's scale our pixel values between [0,1] and transform the targets to one hot encoded categorical columns."
   ]
  },
  {
   "cell_type": "code",
   "execution_count": null,
   "id": "50a73818",
   "metadata": {},
   "outputs": [],
   "source": [
    "def three_dim_transform(x_data, y_data):\n",
    "    \"\"\"\n",
    "    Transforms image data:\n",
    "        - Scales pixel values between [0,1]\n",
    "    Transforms target data (ydata):\n",
    "        - Formats targets as one hot encoded columns\n",
    "    \"\"\"\n",
    "    \n",
    "    x = {}\n",
    "    for name, partition in zip([\"x_train\", \"x_val\", \"x_test\"],x_data):\n",
    "        scaled = partition.astype('float32') / 255\n",
    "        x[name] = scaled\n",
    "    \n",
    "    y = {}\n",
    "    for name, partition in zip([\"y_train\", \"y_val\", \"y_test\"],y_data):\n",
    "        y[name] = to_categorical(partition)\n",
    "    \n",
    "    return x['x_train'], y['y_train'], x['x_val'], y['y_val'], x['x_test'], y['y_test']\n",
    "    "
   ]
  },
  {
   "cell_type": "code",
   "execution_count": null,
   "id": "46de6989",
   "metadata": {},
   "outputs": [],
   "source": [
    "x_train_trans, y_train_trans, x_val_trans, y_val_trans, x_test_trans, y_test_trans = three_dim_transform([x_train, x_val, x_test],\n",
    "                                                                                                    [y_train, y_val, y_test])"
   ]
  },
  {
   "cell_type": "markdown",
   "id": "fdcb2ccd",
   "metadata": {},
   "source": [
    "### Convolutional Neural Network Model Syntax"
   ]
  },
  {
   "cell_type": "markdown",
   "id": "7fc4f866",
   "metadata": {},
   "source": [
    "Let's jump right in and build a convolutional neural network!\n",
    "\n",
    "We initialize a convolutional neural network the same way we did a vanilla neural network."
   ]
  },
  {
   "cell_type": "code",
   "execution_count": null,
   "id": "d35c455a",
   "metadata": {},
   "outputs": [],
   "source": [
    "convnet = models.Sequential()"
   ]
  },
  {
   "cell_type": "markdown",
   "id": "73a1a5aa",
   "metadata": {},
   "source": [
    "We now add our first convolutional layer. \n",
    "\n",
    "*Note: I use the argument names here to clarify what parameters we are passing into our neural network including default values.*"
   ]
  },
  {
   "cell_type": "code",
   "execution_count": null,
   "id": "cc10feec",
   "metadata": {},
   "outputs": [],
   "source": [
    "convnet.add(layers.Conv2D(filters = 32,\n",
    "                          kernel_size = (3, 3),\n",
    "                          strides = (1,1),\n",
    "                          activation= \"relu\",\n",
    "                          input_shape=(32, 32, 3)))"
   ]
  },
  {
   "cell_type": "markdown",
   "id": "27738946",
   "metadata": {},
   "source": [
    "We define our first convolutional layer using:\n",
    "`.add(layers.Conv2D(...))`\n",
    "- This adds a convolutional layer to our model object.\n",
    "\n",
    "`filters = 32`\n",
    "- Initializes 32 filters total.\n",
    "- Each filter slides along the entire image.\n",
    "- Each filter produce a response map.\n",
    "\n",
    "`kernel_size = (3, 3)`\n",
    "- Specifies the \"kernel\" size of the filters.\n",
    "- (3 x 3) : (height x width)\n",
    "    \n",
    "`strides = (1,1)`\n",
    "- The filter strides by one unit in both the horizontal and vertical dimension.\n",
    "- (1 x 1) or (height stride x width stride)\n",
    "\n",
    "`activation= \"relu\"`\n",
    "- Uses the relu (Rectified Linear Unit) activation function on the response map values.\n",
    "- This simply causes any negative values to be 0, and other values to stay the same.\n",
    "\n",
    "`input_shape=(32, 32, 3)`\n",
    "- Specifies the shape of our input data\n",
    "- 32 pixels wide\n",
    "- 32 pixels high\n",
    "- 3 channels deep (Red, Green, Blue)"
   ]
  },
  {
   "cell_type": "markdown",
   "id": "9ed5d071",
   "metadata": {},
   "source": [
    "#### Max Pooling layers\n",
    "After a convolutional layer, we can downsample a *reponse map* using a maxpooling layer. This simply takes the maximum value for a given kernel-size sliding along our response map, much like a filter. \n",
    "\n",
    "Maxpooling has a dual benefit. Not only does it effectively reduce the amount of data we must process, but it also improves our focus on finding **good** matches from our filter, making our model less specific about the location where it was found (location invariance).\n",
    "\n",
    "![title](https://nico-curti.github.io/NumPyNet/NumPyNet/images/maxpool.gif)\n",
    "- The blue boxes represent our *response map*.\n",
    "- The purple box represent our kernel size (2 x 2).\n",
    "- The yellow box is the output of our maxpooling operation."
   ]
  },
  {
   "cell_type": "code",
   "execution_count": null,
   "id": "1078b24c",
   "metadata": {},
   "outputs": [],
   "source": [
    "convnet.add(layers.MaxPooling2D(pool_size=(2, 2),\n",
    "                               strides = None))"
   ]
  },
  {
   "cell_type": "markdown",
   "id": "9ee720ea",
   "metadata": {},
   "source": [
    "`.add(layers.MaxPooling2D(...))`\n",
    "- Adds a maxpooling layer.\n",
    "\n",
    "`pool_size=(2, 2)`\n",
    "- Defines the \"kernel\" size of our maxpooling operation.\n",
    "- Will return a single value from this entire window\n",
    "\n",
    "`strides = None`\n",
    "- None makes it so there is no overlap during striding, just continue to inputs not in the previous window."
   ]
  },
  {
   "cell_type": "markdown",
   "id": "f9494618",
   "metadata": {},
   "source": [
    "#### Dense layers\n",
    "Until this point, the convolutional and maxpooling layers have been performing feature extraction.\n",
    "\n",
    "In order to classify our images we return to our good old dense layer, the same we used in our vanilla neural networks. \n",
    "\n",
    "Before we can use our dense layer, we first flatten the data passed through the convolutional and maxpooling layers (which are high dimensional) into a single dimension.\n",
    "\n",
    "We then use a dense layer that is able to *look* at the all of the features extracted from the convolutional operations, and optimize its weights to correctly associate these features with the correct class.\n",
    "\n",
    "Finally we have our output layer, which contains the same number of neurons as classes we are predicting. We use a softmax activation function, giving us the probability for each class in our prediction."
   ]
  },
  {
   "cell_type": "code",
   "execution_count": null,
   "id": "e039adf5",
   "metadata": {},
   "outputs": [],
   "source": [
    "convnet.add(layers.Flatten())\n",
    "convnet.add(layers.Dense(64, activation= \"relu\"))\n",
    "convnet.add(layers.Dense(10, activation= \"softmax\"))"
   ]
  },
  {
   "cell_type": "markdown",
   "id": "0c022acf",
   "metadata": {},
   "source": [
    "#### Compiling\n",
    "We now compile our model as we have done previously. Using:\n",
    "1. rmsprop optimizer to update weights smoothly\n",
    "2. categorical crossentropy loss function\n",
    "3. track the accuracy metric"
   ]
  },
  {
   "cell_type": "code",
   "execution_count": null,
   "id": "7c746cad",
   "metadata": {},
   "outputs": [],
   "source": [
    "convnet.compile(optimizer= \"rmsprop\",\n",
    "               loss= \"categorical_crossentropy\", \n",
    "               metrics= [\"accuracy\"])"
   ]
  },
  {
   "cell_type": "markdown",
   "id": "6c4eade4",
   "metadata": {},
   "source": [
    "We now use the fit method to train our model for 20 epochs."
   ]
  },
  {
   "cell_type": "code",
   "execution_count": null,
   "id": "50e7f9a2",
   "metadata": {},
   "outputs": [],
   "source": [
    "convnet_history = convnet.fit(x_train_trans,\n",
    "                             y_train_trans,\n",
    "                             epochs=20,\n",
    "                             batch_size = 64,\n",
    "                             validation_data=(x_val_trans, y_val_trans))"
   ]
  },
  {
   "cell_type": "markdown",
   "id": "e5661d28",
   "metadata": {},
   "source": [
    "Let's plot the training and validation accuracy through each epoch of our neural network"
   ]
  },
  {
   "cell_type": "code",
   "execution_count": null,
   "id": "b6a4ac85",
   "metadata": {},
   "outputs": [],
   "source": [
    "def plot_epoch_accuracy(history_dict):\n",
    "    \"\"\"\n",
    "    Plots the training and validation accuracy of a neural network.\n",
    "    \"\"\"\n",
    "    \n",
    "    acc = history_dict['accuracy']\n",
    "    val_acc = history_dict['val_accuracy']\n",
    "    epochs = range(1, len(acc) + 1)\n",
    "    plt.plot(epochs, acc, color = 'navy', alpha = 0.8, label='Training Accuracy')\n",
    "    plt.plot(epochs, val_acc, color = 'green', label='Validation Accuracy')\n",
    "    plt.title('Training and validation Accuracy')\n",
    "    plt.xlabel('Epochs')\n",
    "    plt.ylabel('Accuracy')\n",
    "    plt.legend()\n",
    "    return plt.show()"
   ]
  },
  {
   "cell_type": "code",
   "execution_count": null,
   "id": "a3f672e2",
   "metadata": {
    "scrolled": true
   },
   "outputs": [],
   "source": [
    "plot_epoch_accuracy(convnet_history.history)"
   ]
  },
  {
   "cell_type": "markdown",
   "id": "a1eb7834",
   "metadata": {},
   "source": [
    "We can see that our Convolutional Neural Network is failing to generalize. While our training accuracy keeps increasing throughout our 20 epochs, our validation accuracy stalls at ~50%."
   ]
  },
  {
   "cell_type": "markdown",
   "id": "c11a538c",
   "metadata": {},
   "source": [
    "Let's plot these incorrect predictions and see if they make sense to our own image recognition system, our brain!"
   ]
  },
  {
   "cell_type": "code",
   "execution_count": null,
   "id": "8ad7045a",
   "metadata": {},
   "outputs": [],
   "source": [
    "def plot_wrong_predictions(model, x_test, y_test):\n",
    "    \"\"\"\n",
    "    Plots 25 incorrectly predicted images.\n",
    "    \"\"\"\n",
    "    \n",
    "    # Format predictions and targets\n",
    "    predictions = model.predict(x_test)\n",
    "    predicted = np.argmax(predictions, axis = 1)\n",
    "    target = np.argmax(y_test, axis = 1)\n",
    "    \n",
    "    # Set up subplots\n",
    "    fig, axes = plt.subplots(5,5, figsize = (25,25))\n",
    "    axes = axes.ravel()\n",
    "    \n",
    "    for ax, index in zip(axes, range(25)):\n",
    "        ax.imshow(x_test[index], cmap=plt.cm.binary, interpolation='nearest')\n",
    "        prediction_title = translate_class(predicted[index])\n",
    "        target_title = translate_class(target[index])\n",
    "        \n",
    "        # Color title based on if prediction is correct\n",
    "        if predicted[index] == target[index]:\n",
    "            color = \"green\"\n",
    "        else:\n",
    "            color = \"red\"\n",
    "            \n",
    "        ax.set_title(f\"Predicted {prediction_title}, Actual is {target_title}\", color = color)\n",
    "    \n",
    "    return plt.show()"
   ]
  },
  {
   "cell_type": "code",
   "execution_count": null,
   "id": "99565252",
   "metadata": {
    "scrolled": false
   },
   "outputs": [],
   "source": [
    "plot_wrong_predictions(convnet,\n",
    "                      x_test_trans,\n",
    "                      y_test_trans)"
   ]
  },
  {
   "cell_type": "markdown",
   "id": "40d370ff",
   "metadata": {},
   "source": [
    "Do you see any patterns that this convolutional neural network is able to pick up?"
   ]
  },
  {
   "cell_type": "markdown",
   "id": "4d8776f0",
   "metadata": {},
   "source": [
    "### Troubleshooting\n",
    "\n",
    "Perhaps our model is not able to extract enough features for this complex problem. To address this possibility let's build a model with:\n",
    "1. More convolutional layers\n",
    "2. More neurons in the dense layer"
   ]
  },
  {
   "cell_type": "markdown",
   "id": "97702e09",
   "metadata": {},
   "source": [
    "## Challenge 3: Create a Convolutional Neural Network\n",
    "\n",
    "1. Initialize a Convolutional Neural Network called `my_convnet` with the following architecture:\n",
    "    * Conv2D layer with 32 3x3 filters and relu activation function\n",
    "    * Maxpooling layer 2x2\n",
    "    * Conv2D layer with 64 3x3 filters and relu activation function\n",
    "    * Maxpooling layer 2x2\n",
    "    * Conv2D layer with 128 3x3 filters and relu activation function\n",
    "    * Maxpooling layer wtih a pool size of 2x2\n",
    "    * A flattening layer\n",
    "    * A dense layer with 512 neurons  and relu activation function\n",
    "    * An output layer with the number of classes and softmax activation function\n",
    "\n",
    "2. Compile with the model with:\n",
    "    * rmsprop optimizer\n",
    "    * categorical crossentropy loss\n",
    "    * accuracy metric\n",
    "\n",
    "3. Train the network for 20 epochs.\n",
    "\n",
    "4. Plot the training and validation accuracy through each epoch\n"
   ]
  },
  {
   "cell_type": "code",
   "execution_count": null,
   "id": "c46cd816",
   "metadata": {},
   "outputs": [],
   "source": []
  },
  {
   "cell_type": "markdown",
   "id": "d3c069ea",
   "metadata": {},
   "source": [
    "Does expanding the architecture have a significant impact on the validation accuracy of the model?"
   ]
  },
  {
   "cell_type": "markdown",
   "id": "38d59bfb",
   "metadata": {},
   "source": [
    "### Generalization with Image Augmentation\n",
    "\n",
    "In our vanilla neural network, we prevented overfitting to the training data by using a dropout layer.\n",
    "\n",
    "We could do the same for our convolutional neural network, but instead of using dropout, let's use image augmentation. We will feed altered images with a random amount of rotation, shifting, distorted, and flipped! This will make our neural network generalize to different image orientations."
   ]
  },
  {
   "cell_type": "code",
   "execution_count": null,
   "id": "69246e21",
   "metadata": {},
   "outputs": [],
   "source": [
    "datagen = ImageDataGenerator(\n",
    "    rotation_range=40,\n",
    "    width_shift_range=0.2,\n",
    "    height_shift_range=0.2,\n",
    "    shear_range=0.2,\n",
    "    zoom_range=0.2,\n",
    "    horizontal_flip=True,\n",
    "    fill_mode='nearest')"
   ]
  },
  {
   "cell_type": "code",
   "execution_count": null,
   "id": "546f3cd9",
   "metadata": {},
   "outputs": [],
   "source": [
    "def plot_image_augmentation(augment_gen, image, n = 4):\n",
    "    \"\"\"\n",
    "    Takes an image data generator and an images.\n",
    "    Returns n plots of augmented images.\n",
    "    \"\"\"\n",
    "    image = image.reshape((1,) + image.shape)\n",
    "    \n",
    "    i = 0\n",
    "    \n",
    "    for batch in augment_gen.flow(image, batch_size = 1):\n",
    "        plt.figure(i)\n",
    "        plt.imshow(batch[0])\n",
    "        \n",
    "        i += 1\n",
    "        if i % n == 0:\n",
    "            break\n",
    "\n",
    "        plt.show()\n",
    "        "
   ]
  },
  {
   "cell_type": "code",
   "execution_count": null,
   "id": "d5c79057",
   "metadata": {},
   "outputs": [],
   "source": [
    "plot_image_augmentation(datagen, x_test_trans[12])"
   ]
  },
  {
   "cell_type": "markdown",
   "id": "c262766a",
   "metadata": {},
   "source": [
    "Let's reuse the architecture from our first convolutional neural network, then fit it using these augmented images.\n",
    "\n",
    "*Warning* - This will take a while!"
   ]
  },
  {
   "cell_type": "code",
   "execution_count": null,
   "id": "39795355",
   "metadata": {},
   "outputs": [],
   "source": [
    "augmented_image_model = models.Sequential()\n",
    "\n",
    "augmented_image_model.add(layers.Conv2D(32, (3,3), activation= \"relu\", input_shape = (32, 32, 3)))\n",
    "augmented_image_model.add(layers.MaxPooling2D(pool_size=(2, 2)))\n",
    "augmented_image_model.add(layers.Conv2D(32, (3,3), activation= \"relu\"))\n",
    "\n",
    "augmented_image_model.add(layers.Flatten())\n",
    "augmented_image_model.add(layers.Dense(64, activation= \"relu\"))\n",
    "augmented_image_model.add(layers.Dense(10, activation= \"softmax\"))\n",
    "\n",
    "augmented_image_model.compile(optimizer= \"rmsprop\",\n",
    "                   loss= \"categorical_crossentropy\",\n",
    "                   metrics= [\"accuracy\"])"
   ]
  },
  {
   "cell_type": "code",
   "execution_count": null,
   "id": "21295230",
   "metadata": {},
   "outputs": [],
   "source": [
    "augmented_image_model_history = augmented_image_model.fit(\n",
    "    datagen.flow(\n",
    "        x_train_trans,\n",
    "        y_train_trans,\n",
    "        batch_size=32),\n",
    "    validation_data=datagen.flow(\n",
    "        x_val_trans,\n",
    "        y_val_trans,\n",
    "        batch_size=32),\n",
    "    steps_per_epoch = 200,\n",
    "    epochs=20)\n"
   ]
  },
  {
   "cell_type": "code",
   "execution_count": null,
   "id": "e9353f71",
   "metadata": {
    "scrolled": true
   },
   "outputs": [],
   "source": [
    "plot_epoch_accuracy(augmented_image_model_history.history)"
   ]
  },
  {
   "cell_type": "markdown",
   "id": "2fb439a1",
   "metadata": {},
   "source": [
    "Even after training a convolutional neural network with image augmentation for 100 epochs, we still don't cross the 60% validation accuracy threshold. "
   ]
  },
  {
   "attachments": {
    "augmented_image_acc_100_epochs.png": {
     "image/png": "[encoded data removed]"
    }
   },
   "cell_type": "markdown",
   "id": "7d518945",
   "metadata": {},
   "source": [
    "![augmented_image_acc_100_epochs](attachment:augmented_image_acc_100_epochs.png)"
   ]
  },
  {
   "cell_type": "markdown",
   "id": "9abf0003",
   "metadata": {},
   "source": [
    "### Results\n",
    "\n",
    "Let's compare the accuracy of our three models."
   ]
  },
  {
   "cell_type": "code",
   "execution_count": null,
   "id": "c1d71eda",
   "metadata": {},
   "outputs": [],
   "source": [
    "def get_model_accuracy(model, x_test, y_test):\n",
    "    \"\"\"\n",
    "    Takes a model and a test set of data.\n",
    "    Returns the accuracy.\n",
    "    \"\"\"\n",
    "    \n",
    "    score = model.evaluate(x_test, y_test, verbose=0)\n",
    "    \n",
    "    accuracy = round(score[1]*100, 1)\n",
    "    \n",
    "    return accuracy"
   ]
  },
  {
   "cell_type": "code",
   "execution_count": null,
   "id": "c19457c6",
   "metadata": {},
   "outputs": [],
   "source": [
    "for i, mod in enumerate([convnet, my_convnet, augmented_image_model]):\n",
    "    acc = get_model_accuracy(mod, x_test_trans, y_test_trans)\n",
    "    print(f\"Model {i+1} has an accuracy of {acc}%\")"
   ]
  },
  {
   "cell_type": "markdown",
   "id": "ed590a59",
   "metadata": {},
   "source": [
    "Do you feel satisfied with these results?"
   ]
  },
  {
   "cell_type": "markdown",
   "id": "bfecb6d1",
   "metadata": {},
   "source": [
    "The convolutional neural networks we built are relatively small compared to those used in applications such as google photos.\n",
    "\n",
    "Let's compare the architecture from the models we built with a popular convolutional neural network called [VGG16](https://arxiv.org/pdf/1409.1556.pdf). "
   ]
  },
  {
   "cell_type": "markdown",
   "id": "0e0dd8b8",
   "metadata": {},
   "source": [
    "### First Convolutional Neural Network"
   ]
  },
  {
   "cell_type": "code",
   "execution_count": null,
   "id": "9e4cbd1f",
   "metadata": {},
   "outputs": [],
   "source": [
    "convnet.summary()"
   ]
  },
  {
   "cell_type": "markdown",
   "id": "ad5ce78f",
   "metadata": {},
   "source": [
    "### Second Convolutional Neural Network"
   ]
  },
  {
   "cell_type": "code",
   "execution_count": null,
   "id": "6fe73384",
   "metadata": {},
   "outputs": [],
   "source": [
    "my_convnet.summary()"
   ]
  },
  {
   "cell_type": "markdown",
   "id": "1fe75db2",
   "metadata": {},
   "source": [
    "### VGG16"
   ]
  },
  {
   "cell_type": "markdown",
   "id": "bacbe639",
   "metadata": {},
   "source": [
    "![title](https://alexisbcook.github.io/assets/vgg16_keras.png)"
   ]
  },
  {
   "cell_type": "markdown",
   "id": "7d391081",
   "metadata": {},
   "source": [
    "## Hardware for Deep-Learning"
   ]
  },
  {
   "cell_type": "markdown",
   "id": "dc37b8fb",
   "metadata": {},
   "source": [
    "We are highly restricted in our ability to train larger models due to our hardware. While there are many aspects about hardware that are critical to deep learning, we will focus on one major concept, the Processing Unit.\n",
    "\n",
    "All computers have a Central Processing Unit (CPU) that performs all of the operations your computer needs to do, including running all this python code!\n",
    "\n",
    "For deep-learning, CPUs are not very efficient at running the massive number operations required to train deep neural networks. That's where the Graphical Proccessing Unit (GPU) comes into the picture. \n",
    "\n",
    "GPUs, originally designed to render complex graphics have been repurposed for training neural networks! This key innovation came in 2007 when NVIDIA launched [CUDA](https://developer.nvidia.com/about-cuda), a programming interface for GPUs which allows highly parallelizable computations. Since many neural networks operations are parallelizable, this has become the go-to-way to train large neural network models.\n",
    "\n",
    "*Loosely based on: (Chollet 2018) Deep Learning with Python*"
   ]
  },
  {
   "cell_type": "markdown",
   "id": "26d4e3cf",
   "metadata": {},
   "source": [
    "The code below allows you to see the available hardware (CPUs, GPUs) that can be used in tensorflow/keras."
   ]
  },
  {
   "cell_type": "code",
   "execution_count": null,
   "id": "7b30621f",
   "metadata": {},
   "outputs": [],
   "source": [
    "from tensorflow.python.client import device_lib\n",
    "\n",
    "print(device_lib.list_local_devices())"
   ]
  },
  {
   "cell_type": "markdown",
   "id": "4ba109c6",
   "metadata": {},
   "source": [
    "### Final words\n",
    "\n",
    "So are we doomed? Can only the tech giants create deep neural networks?\n",
    "\n",
    "Well.. sorta, but we do have alternatives, we just need to be creative! Here are some options to train your own deep neural networks that may aren't possible on your own machine:\n",
    "1. Use other services\n",
    "\n",
    "    - Google Colab\n",
    "    - Amazon Web Services (AWS) allows you to use their hardware in \"EC2 instances\" to train your models offerring a [dizzying number of options](https://aws.amazon.com/ec2/instance-types/). Note that this can be expensive and is billed by time!\n",
    "    \n",
    "2. Transfer learning\n",
    "    - Why build your model from the ground up?\n",
    "    - Transfer learning uses an existing model with all it's tuned weights, and retrains just the final portion of the model to a new task."
   ]
  },
  {
   "cell_type": "code",
   "execution_count": null,
   "id": "2f8b6541",
   "metadata": {},
   "outputs": [],
   "source": []
  }
 ],
 "metadata": {
  "kernelspec": {
   "display_name": "Python 3.8.9 64-bit",
   "language": "python",
   "name": "python3"
  },
  "language_info": {
   "codemirror_mode": {
    "name": "ipython",
    "version": 3
   },
   "file_extension": ".py",
   "mimetype": "text/x-python",
   "name": "python",
   "nbconvert_exporter": "python",
   "pygments_lexer": "ipython3",
   "version": "3.8.9"
  },
  "vscode": {
   "interpreter": {
    "hash": "31f2aee4e71d21fbe5cf8b01ff0e069b9275f58929596ceb00d14d90e3e16cd6"
   }
  }
 },
 "nbformat": 4,
 "nbformat_minor": 5
}
