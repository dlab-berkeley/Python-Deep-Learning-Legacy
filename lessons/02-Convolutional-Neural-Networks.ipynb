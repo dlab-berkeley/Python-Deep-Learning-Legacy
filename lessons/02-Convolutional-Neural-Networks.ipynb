{
 "cells": [
  {
   "cell_type": "markdown",
   "id": "d434da15",
   "metadata": {},
   "source": [
    "# Convolutional Neural Networks\n",
    "\n",
    "**Time**\n",
    "- Teaching: 2.5 hours\n",
    "- Challenges: 30 minutes\n",
    "\n",
    "**Questions**\n",
    "- \"Understand \"\n",
    "\n",
    "\n",
    "**Learning Objectives**\n",
    "- \"\"\n",
    "\n",
    "* * * * *"
   ]
  },
  {
   "cell_type": "markdown",
   "id": "f26b2889",
   "metadata": {},
   "source": [
    "## Import packages\n",
    "\n",
    "For this notebook, instead of importing specific functions, we will import modules that contain functions.\n",
    "\n",
    "**Old way:**\n",
    "\n",
    "`from keras.layers import Dense`\n",
    "\n",
    "`model.add(Dense(...))`\n",
    "\n",
    "**New way:**\n",
    "\n",
    "`from keras import layers`\n",
    "\n",
    "`model.add(layers.Dense(...))`\n",
    "\n",
    "But why change it up? I had trouble myself in the past understanding the way modules work, so code would break due simply to the way imports were done. Let's avoid that by getting comfortable with python modules!"
   ]
  },
  {
   "cell_type": "code",
   "execution_count": null,
   "id": "339f88d8",
   "metadata": {},
   "outputs": [],
   "source": [
    "from keras import layers\n",
    "from keras import models\n",
    "from keras.datasets import cifar10"
   ]
  },
  {
   "cell_type": "code",
   "execution_count": null,
   "id": "f9a5eee2",
   "metadata": {},
   "outputs": [],
   "source": [
    "import numpy as np\n",
    "import matplotlib.pyplot as plt"
   ]
  },
  {
   "cell_type": "markdown",
   "id": "c1358987",
   "metadata": {},
   "source": [
    "### CIFAR10\n",
    "\n",
    "So we get sidetracked at work and instead of creating a model capable of capturing digit information on a check, we want to build a classifier for animals and vehicles!\n",
    "\n",
    "We shop around and find an interesting image dataset called [CIFAR10](https://www.cs.toronto.edu/~kriz/cifar.html).\n",
    "\n",
    "This dataset consists of:\n",
    "- 60,000 total images\n",
    "- 10 classes (6,000 images per class)\n",
    "\n",
    "Example images of each class are shown below:\n",
    "\n",
    "![CIFAR10 classes](https://maet3608.github.io/nuts-ml/_images/cifar10.png)"
   ]
  },
  {
   "cell_type": "markdown",
   "id": "e06b0fa1",
   "metadata": {},
   "source": [
    "### Loading the dataset"
   ]
  },
  {
   "cell_type": "code",
   "execution_count": null,
   "id": "bb4074f2",
   "metadata": {},
   "outputs": [],
   "source": [
    "def load_cifar10(subset = True):\n",
    "    \"\"\"\n",
    "    Loads a training, validation, and test set of CIFAR10 images.\n",
    "    \n",
    "    When subset=TRUE:\n",
    "    Returns only a subset of the mnist dataset.\n",
    "    Especially important to use if you are on datahub and only have 1-2GB of memory.\n",
    "    \"\"\"\n",
    "    if subset:\n",
    "        N_TRAIN = 8000\n",
    "        N_VALIDATION = 2000\n",
    "        N_TEST = 2000\n",
    "    else:\n",
    "        N_TRAIN = 40000\n",
    "        N_VALIDATION = 10000\n",
    "        N_TEST = 10000\n",
    "    \n",
    "    (x_train_and_val, y_train_and_val), (x_test, y_test) = cifar10.load_data()\n",
    "    \n",
    "    x_train = x_train_and_val[:N_TRAIN,:,:]\n",
    "    y_train = y_train_and_val[:N_TRAIN]\n",
    "    \n",
    "    x_val = x_train_and_val[N_TRAIN: N_TRAIN + N_VALIDATION,:,:]\n",
    "    y_val = y_train_and_val[N_TRAIN: N_TRAIN + N_VALIDATION]\n",
    "    \n",
    "    x_test = x_test[:N_TEST]\n",
    "    y_test = y_test[:N_TEST]\n",
    "    \n",
    "    return x_train, y_train, x_val, y_val, x_test, y_test\n",
    "    "
   ]
  },
  {
   "cell_type": "code",
   "execution_count": null,
   "id": "7b14bae8",
   "metadata": {},
   "outputs": [],
   "source": [
    "x_train, y_train, x_val, y_val, x_test, y_test = load_cifar10()"
   ]
  },
  {
   "cell_type": "markdown",
   "id": "0dbf7c22",
   "metadata": {},
   "source": [
    "### Input Data Due Dillegence\n",
    "\n",
    "We will borrow some of our previous functions in order to get a feel for CIFAR10."
   ]
  },
  {
   "cell_type": "code",
   "execution_count": null,
   "id": "e9206452",
   "metadata": {},
   "outputs": [],
   "source": [
    "def data_summary(data):\n",
    "    \"\"\"\n",
    "    Takes a list of our data partitions and returns the shape.\n",
    "    \"\"\"\n",
    "    \n",
    "    for i, data_partition in enumerate(data):\n",
    "        if i == 0:\n",
    "            print(\"Training Data\")\n",
    "        elif i == 2:\n",
    "            print()\n",
    "            print(\"Validation Data\")\n",
    "        elif i == 4:\n",
    "            print()\n",
    "            print(\"Testing Data\")\n",
    "\n",
    "        print(f\"Shape: {data_partition.shape}\")"
   ]
  },
  {
   "cell_type": "code",
   "execution_count": null,
   "id": "4efbae49",
   "metadata": {},
   "outputs": [],
   "source": [
    "data_summary([x_train, y_train, x_val, y_val, x_test, y_test])"
   ]
  },
  {
   "cell_type": "code",
   "execution_count": null,
   "id": "0dd71db1",
   "metadata": {},
   "outputs": [],
   "source": [
    "one_image = x_train[0]\n",
    "one_image.shape"
   ]
  },
  {
   "cell_type": "code",
   "execution_count": null,
   "id": "23a92346",
   "metadata": {
    "scrolled": true
   },
   "outputs": [],
   "source": [
    "plt.imshow(one_image);"
   ]
  },
  {
   "cell_type": "markdown",
   "id": "d2c1651f",
   "metadata": {},
   "source": [
    "Can you tell what the class of the image above is!?\n",
    "\n",
    "Let's show more images with their correct class from the CIFAR10."
   ]
  },
  {
   "cell_type": "code",
   "execution_count": null,
   "id": "cda0e803",
   "metadata": {},
   "outputs": [],
   "source": [
    "def plot_images(x, y, random=False):\n",
    "    \"\"\"\n",
    "    Plots 25 images from x data with titles set as y.\n",
    "    Set random=True if you want\n",
    "    \"\"\"\n",
    "    \n",
    "    if random:\n",
    "        indices = np.random.choice(range(y.shape[0]), 25, replace=False)\n",
    "    \n",
    "    else:\n",
    "        indices = np.array(range(25))\n",
    "    \n",
    "    fig, axes = plt.subplots(5,5, figsize = (15,15))\n",
    "    axes = axes.ravel()\n",
    "    \n",
    "    for ax, index in zip(axes, indices):\n",
    "        ax.imshow(x[index])\n",
    "        ax.set_title(f\"Class: {y[index][0]}\", size=15)\n",
    "    \n",
    "    plt.tight_layout()\n",
    "    \n",
    "    return plt.show()"
   ]
  },
  {
   "cell_type": "code",
   "execution_count": null,
   "id": "7274e165",
   "metadata": {},
   "outputs": [],
   "source": [
    "plot_images(x_train, y_train)"
   ]
  },
  {
   "cell_type": "markdown",
   "id": "72e6ea76",
   "metadata": {},
   "source": [
    "Oh no, the class labels are just digits!"
   ]
  },
  {
   "cell_type": "markdown",
   "id": "4f040bc6",
   "metadata": {},
   "source": [
    "## Challenge 1: Translate Classes\n",
    "\n",
    "Create a function `translate_class()` that uses the correct class name for the target classes (truck, horse, etc..)."
   ]
  },
  {
   "cell_type": "code",
   "execution_count": null,
   "id": "40be335a",
   "metadata": {},
   "outputs": [],
   "source": [
    "def translate_class():\n",
    "    # Your code here"
   ]
  },
  {
   "cell_type": "code",
   "execution_count": null,
   "id": "c1d29a20",
   "metadata": {},
   "outputs": [],
   "source": [
    "## TODELETE SOLUTION\n",
    "def translate_class(y):\n",
    "    \"\"\"\n",
    "    Takes a class index [0-9] and returns the CIFAR10 class category.\n",
    "    \"\"\"\n",
    "    # Create a list of categories\n",
    "    categories = [\"airplane\", \n",
    "                 \"automobile\",\n",
    "                 \"bird\",\n",
    "                 \"cat\",\n",
    "                 \"deer\",\n",
    "                 \"dog\",\n",
    "                 \"frog\",\n",
    "                 \"horse\",\n",
    "                 \"ship\",\n",
    "                 \"truck\"]\n",
    "    \n",
    "    return categories[y]\n",
    "    \n",
    "    \n",
    "def translate_classes_fancy(y):\n",
    "    \"\"\"\n",
    "    Use a key-value paired dictionary to translate target class\n",
    "    \"\"\"\n",
    "    # Create a list of categories\n",
    "    categories = [\"airplane\", \n",
    "                 \"automobile\",\n",
    "                 \"bird\",\n",
    "                 \"cat\",\n",
    "                 \"deer\",\n",
    "                 \"dog\",\n",
    "                 \"frog\",\n",
    "                 \"horse\",\n",
    "                 \"ship\",\n",
    "                 \"truck\"]\n",
    "    \n",
    "    # Use a dictionary comprehesion to attach class number to category\n",
    "    category_dict = {key : value for key, value in zip(list(range(10)), categories)}\n",
    "    \n",
    "    return category_dict[y]"
   ]
  },
  {
   "cell_type": "markdown",
   "id": "8f3b995e",
   "metadata": {},
   "source": [
    "## Challenge 2: Plotting Image Classes\n",
    "\n",
    "Create a new function `my_imageplotter()` that uses the correct class name for the target classes (truck, horse, etc..).\n",
    "\n",
    "- Use the above function `plot_images()` as a starting point!\n",
    "\n",
    "- Use the [keras CIFAR10 documentation](https://keras.io/api/datasets/cifar10/) as a guide to understand how the labeled classes."
   ]
  },
  {
   "cell_type": "code",
   "execution_count": null,
   "id": "e6d0dcfa",
   "metadata": {
    "scrolled": true
   },
   "outputs": [],
   "source": [
    "def my_imageplotter():\n",
    "    # your code here\n",
    "    "
   ]
  },
  {
   "cell_type": "code",
   "execution_count": null,
   "id": "dd1c0f6b",
   "metadata": {},
   "outputs": [],
   "source": [
    "## TO DELETE TEST SOLUTION\n",
    "\n",
    "def my_imageplotter(x, y, random=False):\n",
    "    \"\"\"\n",
    "    Plots 25 images from x data with titles set as y.\n",
    "    Set random=True if you want\n",
    "    \"\"\"\n",
    "    \n",
    "    if random:\n",
    "        indices = np.random.choice(range(y.shape[0]), 25, replace=False)\n",
    "    \n",
    "    else:\n",
    "        indices = np.array(range(25))\n",
    "    \n",
    "    fig, axes = plt.subplots(5,5, figsize = (15,15))\n",
    "    axes = axes.ravel()\n",
    "    \n",
    "    for ax, index in zip(axes, indices):\n",
    "        # New line here\n",
    "        title = translate_class(y[index][0])\n",
    "        ax.imshow(x[index])\n",
    "        ax.set_title(f\"Class: {title}\", size=15)\n",
    "    \n",
    "    plt.tight_layout()\n",
    "    \n",
    "    return plt.show()"
   ]
  },
  {
   "cell_type": "markdown",
   "id": "97d5d98c",
   "metadata": {},
   "source": [
    "Test your function below!"
   ]
  },
  {
   "cell_type": "code",
   "execution_count": null,
   "id": "ecd13b7f",
   "metadata": {},
   "outputs": [],
   "source": [
    "my_imageplotter(x_train, y_train)"
   ]
  },
  {
   "cell_type": "markdown",
   "id": "e74b3685",
   "metadata": {},
   "source": [
    "Let's make sure we have balanced class distributions."
   ]
  },
  {
   "cell_type": "code",
   "execution_count": null,
   "id": "ef11d82a",
   "metadata": {},
   "outputs": [],
   "source": [
    "def plot_target_distributions(targets, titles):\n",
    "    \"\"\"\n",
    "    Returns the distribution of target classes.\n",
    "    \"\"\"\n",
    "    \n",
    "    fig, axes = plt.subplots(3,1, figsize = (10,10))\n",
    "    \n",
    "    for ax, target, title in zip(axes, targets, titles):\n",
    "        ax.hist(target) \n",
    "        ax.set_title(f\"{title} Class Distribution\")\n",
    "    \n",
    "    return plt.show()\n",
    "\n",
    "plot_target_distributions([y_train, y_val, y_test], [\"Train\", \"Validation\", \"Test\"])"
   ]
  },
  {
   "cell_type": "markdown",
   "id": "04bda62d",
   "metadata": {},
   "source": [
    "The last step to prepping our data for modeling is data transformation. In order to save memory, let's build a function to train our model that:\n",
    "1. Transforms the data\n",
    "2. Serves as a wrapper that accepts a model infrastructure\n",
    "\n",
    "Now that we've our due dillegence with the data, let's start building models that can predict image classes!"
   ]
  },
  {
   "cell_type": "code",
   "execution_count": null,
   "id": "06d7378c",
   "metadata": {},
   "outputs": [],
   "source": [
    "def transform_data_onedim():\n",
    "    \"\"\"\n",
    "    \n",
    "    \"\"\"\n",
    "    \n",
    "    "
   ]
  },
  {
   "cell_type": "code",
   "execution_count": null,
   "id": "3154f7cb",
   "metadata": {},
   "outputs": [],
   "source": [
    "def transform_train_model(model, transformation, y_train, x_val, y_val):\n",
    "    \"\"\"\n",
    "    Reshapes data and trains a model based on:\n",
    "    1. An initialized compiled model\n",
    "    2. x_train and y_train data\n",
    "    3. x_val and y_val data\n",
    "    \"\"\"\n",
    "    \n",
    "    \n",
    "    \n",
    "    \n",
    "    \n",
    "    \n",
    "    "
   ]
  },
  {
   "cell_type": "code",
   "execution_count": null,
   "id": "8085cbfd",
   "metadata": {},
   "outputs": [],
   "source": [
    "vanilla_neural_network = models.Sequential()\n",
    "vanilla_neural_network.add(layers.Dense())"
   ]
  },
  {
   "cell_type": "code",
   "execution_count": null,
   "id": "145b7fa6",
   "metadata": {},
   "outputs": [],
   "source": []
  },
  {
   "cell_type": "markdown",
   "id": "7d391081",
   "metadata": {},
   "source": [
    "## Hardware for Deep-Learning"
   ]
  },
  {
   "cell_type": "code",
   "execution_count": null,
   "id": "6df9115f",
   "metadata": {},
   "outputs": [],
   "source": []
  },
  {
   "cell_type": "code",
   "execution_count": null,
   "id": "8d742e71",
   "metadata": {},
   "outputs": [],
   "source": []
  },
  {
   "cell_type": "code",
   "execution_count": null,
   "id": "7b30621f",
   "metadata": {},
   "outputs": [],
   "source": [
    "from tensorflow.python.client import device_lib\n",
    "\n",
    "print(device_lib.list_local_devices())"
   ]
  },
  {
   "cell_type": "code",
   "execution_count": null,
   "id": "a4880c17",
   "metadata": {},
   "outputs": [],
   "source": []
  }
 ],
 "metadata": {
  "kernelspec": {
   "display_name": "Python 3 (ipykernel)",
   "language": "python",
   "name": "python3"
  },
  "language_info": {
   "codemirror_mode": {
    "name": "ipython",
    "version": 3
   },
   "file_extension": ".py",
   "mimetype": "text/x-python",
   "name": "python",
   "nbconvert_exporter": "python",
   "pygments_lexer": "ipython3",
   "version": "3.9.10"
  }
 },
 "nbformat": 4,
 "nbformat_minor": 5
}
