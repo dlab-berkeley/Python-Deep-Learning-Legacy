{
 "cells": [
  {
   "cell_type": "markdown",
   "id": "3bd23324",
   "metadata": {},
   "source": [
    "# Neural Networks in Keras with MNIST\n",
    "\n",
    "**Time**\n",
    "- Teaching: FILLME\n",
    "- Challenges: FILLME\n",
    "\n",
    "**Questions**\n",
    "- \"How to we load and get context for input data in deep learning?\"\n",
    "- \"How can we use keras to design custom neural network architectures?\"\n",
    "\n",
    "**Learning Objectives**\n",
    "- \"Understand the data format of inputs to neural networks.\"\n",
    "- \"The ability to implement, troubleshoot, and modify your own neural networks.\"\n",
    "\n",
    "* * * * *"
   ]
  },
  {
   "cell_type": "markdown",
   "id": "d232252d",
   "metadata": {},
   "source": [
    "## Install packages\n",
    "TODO"
   ]
  },
  {
   "cell_type": "markdown",
   "id": "bc5d0fda",
   "metadata": {},
   "source": [
    "## Import packages\n",
    "After installation is complete, we now are able to import the keras library. In order to simplify the syntax we will specifically import the functions we need from keras modules."
   ]
  },
  {
   "cell_type": "code",
   "execution_count": 1,
   "id": "96f813f1",
   "metadata": {
    "scrolled": true
   },
   "outputs": [
    {
     "name": "stderr",
     "output_type": "stream",
     "text": [
      "2022-02-07 15:19:31.154104: W tensorflow/stream_executor/platform/default/dso_loader.cc:64] Could not load dynamic library 'libcudart.so.11.0'; dlerror: libcudart.so.11.0: cannot open shared object file: No such file or directory\n",
      "2022-02-07 15:19:31.154216: I tensorflow/stream_executor/cuda/cudart_stub.cc:29] Ignore above cudart dlerror if you do not have a GPU set up on your machine.\n"
     ]
    }
   ],
   "source": [
    "from tensorflow.keras.datasets import mnist\n",
    "from tensorflow.keras.models import Sequential\n",
    "from tensorflow.keras.layers import Dense, Dropout\n",
    "from tensorflow.keras.optimizers import RMSprop\n",
    "from tensorflow.keras.utils import to_categorical\n",
    "\n",
    "# Note you may get a warning about CUDA and GPU set up\n",
    "# You can ignore these for now"
   ]
  },
  {
   "cell_type": "markdown",
   "id": "c0e1b58c",
   "metadata": {},
   "source": [
    "We also need to import packages to help us with visualizing and manipulating out data. Remember, this is half the battle!"
   ]
  },
  {
   "cell_type": "code",
   "execution_count": 2,
   "id": "c9d96314",
   "metadata": {},
   "outputs": [],
   "source": [
    "import numpy as np\n",
    "import matplotlib.pyplot as plt"
   ]
  },
  {
   "cell_type": "markdown",
   "id": "253cf87a",
   "metadata": {},
   "source": [
    "### Keras and MNIST\n",
    "\n",
    "Keras, Tensorflow, and MNIST, oh my! \n",
    "\n",
    "#### Keras\n",
    "A deep-learning framework with a user-friendly API built for researchers to quickly prototype models developed by google.\n",
    "\n",
    "#### Tensorflow\n",
    "A backend engine for Keras developed by google.\n",
    "\n",
    "#### MNIST\n",
    "A dataset of 60,000 training images and 10,000 test images of handwritten digits. It is often considered the \"hello world\" of deep learning."
   ]
  },
  {
   "cell_type": "markdown",
   "id": "0263315d",
   "metadata": {},
   "source": [
    "#### Problem Statement\n",
    "\n",
    "You work for a bank and they need to automate the processing of reading mobile check deposits. \n",
    "\n",
    "At they moment they have overworked staff, looking at each photo of the checks and manually inputting the check number, account number, and amount of money. \n",
    "\n",
    "Can we make their life easier!?"
   ]
  },
  {
   "cell_type": "markdown",
   "id": "bacec302",
   "metadata": {},
   "source": [
    "<img src=\"https://www.usglobalmail.com/wp-content/uploads/2016/12/check-deposits.png\" width=\"600\" />"
   ]
  },
  {
   "cell_type": "markdown",
   "id": "b8e62029",
   "metadata": {},
   "source": [
    "#### Our Solution\n",
    "\n",
    "We will build a model that can correctly identify numbers from a picture!\n",
    "\n",
    "As a first pass, we want to build a model that can identify a single handwritten digit, and produce the correct target digit class.\n",
    "\n",
    "Let's dive right in and build a neural network model with keras that is able identify handwritten digits. "
   ]
  },
  {
   "cell_type": "markdown",
   "id": "e676450f",
   "metadata": {},
   "source": [
    "## Input Data "
   ]
  },
  {
   "cell_type": "markdown",
   "id": "f32bfe53",
   "metadata": {},
   "source": [
    "Getting data in the right format is a non-trivial and critical task when configuring building neural networks!"
   ]
  },
  {
   "cell_type": "markdown",
   "id": "a83c42b7",
   "metadata": {},
   "source": [
    "### Reading in the data"
   ]
  },
  {
   "cell_type": "code",
   "execution_count": 3,
   "id": "3aac41f3",
   "metadata": {},
   "outputs": [],
   "source": [
    "def get_mnist_data(subset=True):\n",
    "    \"\"\"\n",
    "    Returns the MNIST dataset in a a tuple of size 6:\n",
    "    (x_train, y_train, x_val, y_val, x_test, y_test)\n",
    "    \n",
    "    When subset=TRUE:\n",
    "    Returns only a subset of the mnist dataset.\n",
    "    Especially important to use if you are on datahub and only have 1-2GB of memory.\n",
    "    \"\"\"\n",
    "    \n",
    "    if subset:\n",
    "        N_TRAIN = 5000\n",
    "        N_VALIDATION = 1000\n",
    "        N_TEST = 1000\n",
    "    else:\n",
    "        N_TRAIN = 48000\n",
    "        N_VALIDATION = 12000\n",
    "        N_TEST = 10000\n",
    "    \n",
    "    (x_train_and_val, y_train_and_val), (x_test, y_test) = mnist.load_data()\n",
    "    \n",
    "    x_train = x_train_and_val[:N_TRAIN,:,:]\n",
    "    y_train = y_train_and_val[:N_TRAIN]\n",
    "    \n",
    "    x_val = x_train_and_val[N_TRAIN: N_TRAIN + N_VALIDATION,:,:]\n",
    "    y_val = y_train_and_val[N_TRAIN: N_TRAIN + N_VALIDATION]\n",
    "    \n",
    "    x_test = x_test[:N_TEST]\n",
    "    y_test = y_test[:N_TEST]\n",
    "    \n",
    "    return x_train, y_train, x_val, y_val, x_test, y_test\n",
    "    \n",
    "    "
   ]
  },
  {
   "cell_type": "code",
   "execution_count": 4,
   "id": "8be26764",
   "metadata": {},
   "outputs": [],
   "source": [
    "# Extract data from the tuple\n",
    "x_train, y_train, x_val, y_val, x_test, y_test = get_mnist_data(subset=True)"
   ]
  },
  {
   "cell_type": "markdown",
   "id": "296c8cda",
   "metadata": {},
   "source": [
    "### Understanding the data"
   ]
  },
  {
   "cell_type": "code",
   "execution_count": 5,
   "id": "e9aeca89",
   "metadata": {},
   "outputs": [],
   "source": [
    "def data_summary(data):\n",
    "    \"\"\"\n",
    "    Takes a list of our data partitions and returns the shape.\n",
    "    \"\"\"\n",
    "    \n",
    "    for i, data_partition in enumerate(data):\n",
    "        if i == 0:\n",
    "            print(\"Training Data\")\n",
    "        elif i == 2:\n",
    "            print()\n",
    "            print(\"Validation Data\")\n",
    "        elif i == 4:\n",
    "            print()\n",
    "            print(\"Testing Data\")\n",
    "\n",
    "        print(f\"Shape: {data_partition.shape}\")\n",
    "    \n",
    "    "
   ]
  },
  {
   "cell_type": "code",
   "execution_count": 6,
   "id": "4409be4b",
   "metadata": {},
   "outputs": [
    {
     "name": "stdout",
     "output_type": "stream",
     "text": [
      "Training Data\n",
      "Shape: (5000, 28, 28)\n",
      "Shape: (5000,)\n",
      "\n",
      "Validation Data\n",
      "Shape: (1000, 28, 28)\n",
      "Shape: (1000,)\n",
      "\n",
      "Testing Data\n",
      "Shape: (1000, 28, 28)\n",
      "Shape: (1000,)\n"
     ]
    }
   ],
   "source": [
    "data_summary([x_train, y_train, x_val, y_val, x_test, y_test])"
   ]
  },
  {
   "cell_type": "markdown",
   "id": "8428fa7a",
   "metadata": {},
   "source": [
    "## Challenge 1: Understanding the Input Data\n",
    "\n",
    "1. Why do we use split our data into train/validation/test?\n",
    "2. What is the shape of our input data partitions?\n",
    "3. What is the type of the data?\n",
    "\n",
    "**BONUS:**\n",
    "\n",
    "4. What is the distribution of the target classes within the data, is it balanced?"
   ]
  },
  {
   "cell_type": "code",
   "execution_count": null,
   "id": "37dbbfef",
   "metadata": {},
   "outputs": [],
   "source": []
  },
  {
   "cell_type": "markdown",
   "id": "e7aa18bb",
   "metadata": {},
   "source": [
    "### Understanding and visualizing the images"
   ]
  },
  {
   "cell_type": "markdown",
   "id": "1c364eb7",
   "metadata": {},
   "source": [
    "Let's extract just one example from the training data"
   ]
  },
  {
   "cell_type": "code",
   "execution_count": 7,
   "id": "c0fa4f5f",
   "metadata": {},
   "outputs": [],
   "source": [
    "one_image = x_train[0]"
   ]
  },
  {
   "cell_type": "markdown",
   "id": "a3b014c0",
   "metadata": {},
   "source": [
    "Let's look inside and see how it's stored!"
   ]
  },
  {
   "cell_type": "code",
   "execution_count": 8,
   "id": "014bcabf",
   "metadata": {},
   "outputs": [
    {
     "data": {
      "text/plain": [
       "array([[  0,   0,   0,   0,   0,   0,   0,   0,   0,   0,   0,   0,   0,\n",
       "          0,   0,   0,   0,   0,   0,   0,   0,   0,   0,   0,   0,   0,\n",
       "          0,   0],\n",
       "       [  0,   0,   0,   0,   0,   0,   0,   0,   0,   0,   0,   0,   0,\n",
       "          0,   0,   0,   0,   0,   0,   0,   0,   0,   0,   0,   0,   0,\n",
       "          0,   0],\n",
       "       [  0,   0,   0,   0,   0,   0,   0,   0,   0,   0,   0,   0,   0,\n",
       "          0,   0,   0,   0,   0,   0,   0,   0,   0,   0,   0,   0,   0,\n",
       "          0,   0],\n",
       "       [  0,   0,   0,   0,   0,   0,   0,   0,   0,   0,   0,   0,   0,\n",
       "          0,   0,   0,   0,   0,   0,   0,   0,   0,   0,   0,   0,   0,\n",
       "          0,   0],\n",
       "       [  0,   0,   0,   0,   0,   0,   0,   0,   0,   0,   0,   0,   0,\n",
       "          0,   0,   0,   0,   0,   0,   0,   0,   0,   0,   0,   0,   0,\n",
       "          0,   0],\n",
       "       [  0,   0,   0,   0,   0,   0,   0,   0,   0,   0,   0,   0,   3,\n",
       "         18,  18,  18, 126, 136, 175,  26, 166, 255, 247, 127,   0,   0,\n",
       "          0,   0],\n",
       "       [  0,   0,   0,   0,   0,   0,   0,   0,  30,  36,  94, 154, 170,\n",
       "        253, 253, 253, 253, 253, 225, 172, 253, 242, 195,  64,   0,   0,\n",
       "          0,   0],\n",
       "       [  0,   0,   0,   0,   0,   0,   0,  49, 238, 253, 253, 253, 253,\n",
       "        253, 253, 253, 253, 251,  93,  82,  82,  56,  39,   0,   0,   0,\n",
       "          0,   0],\n",
       "       [  0,   0,   0,   0,   0,   0,   0,  18, 219, 253, 253, 253, 253,\n",
       "        253, 198, 182, 247, 241,   0,   0,   0,   0,   0,   0,   0,   0,\n",
       "          0,   0],\n",
       "       [  0,   0,   0,   0,   0,   0,   0,   0,  80, 156, 107, 253, 253,\n",
       "        205,  11,   0,  43, 154,   0,   0,   0,   0,   0,   0,   0,   0,\n",
       "          0,   0],\n",
       "       [  0,   0,   0,   0,   0,   0,   0,   0,   0,  14,   1, 154, 253,\n",
       "         90,   0,   0,   0,   0,   0,   0,   0,   0,   0,   0,   0,   0,\n",
       "          0,   0],\n",
       "       [  0,   0,   0,   0,   0,   0,   0,   0,   0,   0,   0, 139, 253,\n",
       "        190,   2,   0,   0,   0,   0,   0,   0,   0,   0,   0,   0,   0,\n",
       "          0,   0],\n",
       "       [  0,   0,   0,   0,   0,   0,   0,   0,   0,   0,   0,  11, 190,\n",
       "        253,  70,   0,   0,   0,   0,   0,   0,   0,   0,   0,   0,   0,\n",
       "          0,   0],\n",
       "       [  0,   0,   0,   0,   0,   0,   0,   0,   0,   0,   0,   0,  35,\n",
       "        241, 225, 160, 108,   1,   0,   0,   0,   0,   0,   0,   0,   0,\n",
       "          0,   0],\n",
       "       [  0,   0,   0,   0,   0,   0,   0,   0,   0,   0,   0,   0,   0,\n",
       "         81, 240, 253, 253, 119,  25,   0,   0,   0,   0,   0,   0,   0,\n",
       "          0,   0],\n",
       "       [  0,   0,   0,   0,   0,   0,   0,   0,   0,   0,   0,   0,   0,\n",
       "          0,  45, 186, 253, 253, 150,  27,   0,   0,   0,   0,   0,   0,\n",
       "          0,   0],\n",
       "       [  0,   0,   0,   0,   0,   0,   0,   0,   0,   0,   0,   0,   0,\n",
       "          0,   0,  16,  93, 252, 253, 187,   0,   0,   0,   0,   0,   0,\n",
       "          0,   0],\n",
       "       [  0,   0,   0,   0,   0,   0,   0,   0,   0,   0,   0,   0,   0,\n",
       "          0,   0,   0,   0, 249, 253, 249,  64,   0,   0,   0,   0,   0,\n",
       "          0,   0],\n",
       "       [  0,   0,   0,   0,   0,   0,   0,   0,   0,   0,   0,   0,   0,\n",
       "          0,  46, 130, 183, 253, 253, 207,   2,   0,   0,   0,   0,   0,\n",
       "          0,   0],\n",
       "       [  0,   0,   0,   0,   0,   0,   0,   0,   0,   0,   0,   0,  39,\n",
       "        148, 229, 253, 253, 253, 250, 182,   0,   0,   0,   0,   0,   0,\n",
       "          0,   0],\n",
       "       [  0,   0,   0,   0,   0,   0,   0,   0,   0,   0,  24, 114, 221,\n",
       "        253, 253, 253, 253, 201,  78,   0,   0,   0,   0,   0,   0,   0,\n",
       "          0,   0],\n",
       "       [  0,   0,   0,   0,   0,   0,   0,   0,  23,  66, 213, 253, 253,\n",
       "        253, 253, 198,  81,   2,   0,   0,   0,   0,   0,   0,   0,   0,\n",
       "          0,   0],\n",
       "       [  0,   0,   0,   0,   0,   0,  18, 171, 219, 253, 253, 253, 253,\n",
       "        195,  80,   9,   0,   0,   0,   0,   0,   0,   0,   0,   0,   0,\n",
       "          0,   0],\n",
       "       [  0,   0,   0,   0,  55, 172, 226, 253, 253, 253, 253, 244, 133,\n",
       "         11,   0,   0,   0,   0,   0,   0,   0,   0,   0,   0,   0,   0,\n",
       "          0,   0],\n",
       "       [  0,   0,   0,   0, 136, 253, 253, 253, 212, 135, 132,  16,   0,\n",
       "          0,   0,   0,   0,   0,   0,   0,   0,   0,   0,   0,   0,   0,\n",
       "          0,   0],\n",
       "       [  0,   0,   0,   0,   0,   0,   0,   0,   0,   0,   0,   0,   0,\n",
       "          0,   0,   0,   0,   0,   0,   0,   0,   0,   0,   0,   0,   0,\n",
       "          0,   0],\n",
       "       [  0,   0,   0,   0,   0,   0,   0,   0,   0,   0,   0,   0,   0,\n",
       "          0,   0,   0,   0,   0,   0,   0,   0,   0,   0,   0,   0,   0,\n",
       "          0,   0],\n",
       "       [  0,   0,   0,   0,   0,   0,   0,   0,   0,   0,   0,   0,   0,\n",
       "          0,   0,   0,   0,   0,   0,   0,   0,   0,   0,   0,   0,   0,\n",
       "          0,   0]], dtype=uint8)"
      ]
     },
     "execution_count": 8,
     "metadata": {},
     "output_type": "execute_result"
    }
   ],
   "source": [
    "one_image"
   ]
  },
  {
   "cell_type": "markdown",
   "id": "1f74e383",
   "metadata": {},
   "source": [
    "Not very helpful to see the data in it's raw format \n",
    "\n",
    "Instead, let's utilize the shape attribute and matplotlib to help us visualize this image data!"
   ]
  },
  {
   "cell_type": "code",
   "execution_count": 9,
   "id": "597c087d",
   "metadata": {},
   "outputs": [
    {
     "data": {
      "text/plain": [
       "(28, 28)"
      ]
     },
     "execution_count": 9,
     "metadata": {},
     "output_type": "execute_result"
    }
   ],
   "source": [
    "one_image.shape"
   ]
  },
  {
   "cell_type": "code",
   "execution_count": 10,
   "id": "4206f70f",
   "metadata": {
    "scrolled": true
   },
   "outputs": [
    {
     "data": {
      "image/png": "[encoded data removed]",
      "text/plain": [
       "<Figure size 432x288 with 1 Axes>"
      ]
     },
     "metadata": {
      "needs_background": "light"
     },
     "output_type": "display_data"
    }
   ],
   "source": [
    "plt.imshow(one_image, cmap=plt.cm.binary);"
   ]
  },
  {
   "cell_type": "markdown",
   "id": "f08b9c5a",
   "metadata": {},
   "source": [
    "Which dimension represent rows vs. columns in our image?\n",
    "\n",
    "Let's find out through a test by grabbing all of the first dimension, and half of the second.\n",
    "\n",
    "If the image is cutoff column-wise, we know the dimensions are (row pixel, column pixel)"
   ]
  },
  {
   "cell_type": "code",
   "execution_count": 11,
   "id": "b702ff40",
   "metadata": {},
   "outputs": [],
   "source": [
    "one_image_first_dimension = one_image[:,0:14]"
   ]
  },
  {
   "cell_type": "code",
   "execution_count": 12,
   "id": "0c5e564c",
   "metadata": {},
   "outputs": [
    {
     "data": {
      "image/png": "[encoded data removed]",
      "text/plain": [
       "<Figure size 432x288 with 1 Axes>"
      ]
     },
     "metadata": {
      "needs_background": "light"
     },
     "output_type": "display_data"
    }
   ],
   "source": [
    "plt.imshow(one_image_first_dimension, cmap=plt.cm.binary);"
   ]
  },
  {
   "cell_type": "markdown",
   "id": "bcd6cff4",
   "metadata": {},
   "source": [
    "So now we feel solid with our input data format!\n",
    "\n",
    "The X data has 3 dimensions (index for images, pixel row, pixel column)"
   ]
  },
  {
   "cell_type": "markdown",
   "id": "89753677",
   "metadata": {},
   "source": [
    "### Building a Neural Network in Keras"
   ]
  },
  {
   "cell_type": "markdown",
   "id": "002b2bd9",
   "metadata": {},
   "source": [
    "First we define our neural network architecture."
   ]
  },
  {
   "cell_type": "code",
   "execution_count": 13,
   "id": "e6db3efd",
   "metadata": {},
   "outputs": [
    {
     "name": "stderr",
     "output_type": "stream",
     "text": [
      "2022-02-07 15:19:38.040856: W tensorflow/stream_executor/platform/default/dso_loader.cc:64] Could not load dynamic library 'libcuda.so.1'; dlerror: libcuda.so.1: cannot open shared object file: No such file or directory\n",
      "2022-02-07 15:19:38.040923: W tensorflow/stream_executor/cuda/cuda_driver.cc:269] failed call to cuInit: UNKNOWN ERROR (303)\n",
      "2022-02-07 15:19:38.040949: I tensorflow/stream_executor/cuda/cuda_diagnostics.cc:156] kernel driver does not appear to be running on this host (jupyter-seanperez): /proc/driver/nvidia/version does not exist\n",
      "2022-02-07 15:19:38.042187: I tensorflow/core/platform/cpu_feature_guard.cc:142] This TensorFlow binary is optimized with oneAPI Deep Neural Network Library (oneDNN) to use the following CPU instructions in performance-critical operations:  AVX2 FMA\n",
      "To enable them in other operations, rebuild TensorFlow with the appropriate compiler flags.\n"
     ]
    }
   ],
   "source": [
    "first_network = Sequential()\n",
    "first_network.add(Dense(64, activation= \"relu\", input_shape=(28*28,)))\n",
    "first_network.add(Dense(10, activation=\"softmax\"))"
   ]
  },
  {
   "cell_type": "markdown",
   "id": "70a2acc3",
   "metadata": {},
   "source": [
    "We define a simple neural network with a single \"hidden\" layer, not very *deep*.\n",
    "\n",
    "We can check out a summary of our model layout with the method `model_object.summary()`"
   ]
  },
  {
   "cell_type": "code",
   "execution_count": 14,
   "id": "614a18a9",
   "metadata": {
    "scrolled": true
   },
   "outputs": [
    {
     "name": "stdout",
     "output_type": "stream",
     "text": [
      "Model: \"sequential\"\n",
      "_________________________________________________________________\n",
      "Layer (type)                 Output Shape              Param #   \n",
      "=================================================================\n",
      "dense (Dense)                (None, 64)                50240     \n",
      "_________________________________________________________________\n",
      "dense_1 (Dense)              (None, 10)                650       \n",
      "=================================================================\n",
      "Total params: 50,890\n",
      "Trainable params: 50,890\n",
      "Non-trainable params: 0\n",
      "_________________________________________________________________\n"
     ]
    }
   ],
   "source": [
    "first_network.summary()"
   ]
  },
  {
   "cell_type": "markdown",
   "id": "75f95153",
   "metadata": {},
   "source": [
    "Even this TINY neural network has over 50,000 parameters!\n",
    "\n",
    "Next we need to give the model:\n",
    "1. An optimizer strategy\n",
    "2. A way to calculate loss\n",
    "3. The metric we want to get out during training."
   ]
  },
  {
   "cell_type": "code",
   "execution_count": 15,
   "id": "13ac7c26",
   "metadata": {},
   "outputs": [],
   "source": [
    "first_network.compile(optimizer = 'rmsprop', \n",
    "                     loss = 'categorical_crossentropy',\n",
    "                     metrics = ['accuracy'])"
   ]
  },
  {
   "cell_type": "markdown",
   "id": "712fdc57",
   "metadata": {},
   "source": [
    "Lastly, we train the model using the `model_name.fit()` method"
   ]
  },
  {
   "cell_type": "markdown",
   "id": "8f703738",
   "metadata": {},
   "source": [
    "If you run the code below.... you would find that the model would fail to train. I do not suggest running it to save memory!"
   ]
  },
  {
   "cell_type": "code",
   "execution_count": 16,
   "id": "2cf0ffcf",
   "metadata": {},
   "outputs": [],
   "source": [
    "#history = first_network.fit(x_train, y_train, epochs=5, batch_size=128, validation_data=(x_val, y_val))"
   ]
  },
  {
   "cell_type": "markdown",
   "id": "eab9fda6",
   "metadata": {},
   "source": [
    "Remember that half the battle with model training is understanding what format we need the data in!\n",
    "\n",
    "We won't go over this in too much detail, but in a snapshot we will:\n",
    "1. Flatten the pixel dimensions from (28,28) into a single dimension (784)\n",
    "2. Change x data type from integer with pixel values \\[0, 225\\] to a float values \\[0,1\\].\n",
    "3. Expand the y targets from a single dimension with values \\[0:9\\] to 10 dimensions each representing a target class. \n",
    "    - In each row, the target class column will have a value of 1, while the other columns will have a value of 0\n",
    "    - This is known as One Hot Encoding!\n",
    " "
   ]
  },
  {
   "cell_type": "code",
   "execution_count": 17,
   "id": "c94a3824",
   "metadata": {},
   "outputs": [],
   "source": [
    "def transform_data(xdata, ydata):\n",
    "    \"\"\"\n",
    "    Deletes the current data partitions.\n",
    "    Reads in MNIST data.\n",
    "    Transforms image data:\n",
    "        1. Flattens pixel dimensions from 2 -> 1\n",
    "        2. Scales pixel values between [0,1]\n",
    "    \"\"\"\n",
    "    \n",
    "    x = {}\n",
    "    for name, partition in zip([\"x_train\", \"x_val\", \"x_test\"],xdata):\n",
    "        flatten = partition.reshape((partition.shape[0], 28 * 28))\n",
    "        scaled = flatten.astype('float32') / 255\n",
    "        x[name] = scaled\n",
    "    \n",
    "    y = {}\n",
    "    for name, partition in zip([\"y_train\", \"y_val\", \"y_test\"],ydata):\n",
    "        y[name] = to_categorical(partition)\n",
    "    \n",
    "    return x['x_train'], y['y_train'], x['x_val'], y['y_val'], x['x_test'], y['y_test']"
   ]
  },
  {
   "cell_type": "code",
   "execution_count": 18,
   "id": "a333742d",
   "metadata": {},
   "outputs": [],
   "source": [
    "x_train_trans, y_train_trans, x_val_trans, y_val_trans, x_test_trans, y_test_trans = transform_data([x_train, x_val, x_test],\n",
    "                                                                                                    [y_train, y_val, y_test])"
   ]
  },
  {
   "cell_type": "code",
   "execution_count": 19,
   "id": "fc7b74c2",
   "metadata": {},
   "outputs": [
    {
     "name": "stdout",
     "output_type": "stream",
     "text": [
      "Training Data\n",
      "Shape: (5000, 784)\n",
      "Shape: (5000, 10)\n",
      "\n",
      "Validation Data\n",
      "Shape: (1000, 784)\n",
      "Shape: (1000, 10)\n",
      "\n",
      "Testing Data\n",
      "Shape: (1000, 784)\n",
      "Shape: (1000, 10)\n"
     ]
    }
   ],
   "source": [
    "data_summary([x_train_trans, y_train_trans, x_val_trans, y_val_trans, x_test_trans, y_test_trans])"
   ]
  },
  {
   "cell_type": "markdown",
   "id": "a7e48488",
   "metadata": {},
   "source": [
    "We have succesfully flattened our input images!"
   ]
  },
  {
   "cell_type": "code",
   "execution_count": 20,
   "id": "79f845ce",
   "metadata": {},
   "outputs": [
    {
     "name": "stderr",
     "output_type": "stream",
     "text": [
      "2022-02-07 15:19:39.283709: I tensorflow/compiler/mlir/mlir_graph_optimization_pass.cc:185] None of the MLIR Optimization Passes are enabled (registered 2)\n"
     ]
    },
    {
     "name": "stdout",
     "output_type": "stream",
     "text": [
      "Epoch 1/5\n",
      "40/40 [==============================] - 1s 8ms/step - loss: 1.1394 - accuracy: 0.7352 - val_loss: 0.7988 - val_accuracy: 0.7750\n",
      "Epoch 2/5\n",
      "40/40 [==============================] - 0s 3ms/step - loss: 0.5214 - accuracy: 0.8782 - val_loss: 0.4859 - val_accuracy: 0.8750\n",
      "Epoch 3/5\n",
      "40/40 [==============================] - 0s 4ms/step - loss: 0.3761 - accuracy: 0.9022 - val_loss: 0.3958 - val_accuracy: 0.8930\n",
      "Epoch 4/5\n",
      "40/40 [==============================] - 0s 4ms/step - loss: 0.3119 - accuracy: 0.9156 - val_loss: 0.3537 - val_accuracy: 0.9080\n",
      "Epoch 5/5\n",
      "40/40 [==============================] - 0s 4ms/step - loss: 0.2719 - accuracy: 0.9254 - val_loss: 0.3398 - val_accuracy: 0.9050\n"
     ]
    }
   ],
   "source": [
    "history = first_network.fit(x_train_trans, \n",
    "                            y_train_trans, \n",
    "                            epochs=5, \n",
    "                            batch_size=128, \n",
    "                            validation_data=(x_val_trans, y_val_trans), )"
   ]
  },
  {
   "cell_type": "markdown",
   "id": "1221b829",
   "metadata": {},
   "source": [
    "### Visualizing the accuracy"
   ]
  },
  {
   "cell_type": "code",
   "execution_count": 21,
   "id": "fcc7af9f",
   "metadata": {},
   "outputs": [],
   "source": [
    "def plot_epoch_accuracy(history_dict):\n",
    "    \"\"\"\n",
    "    Plots the training and validation accuracy of a neural network.\n",
    "    \"\"\"\n",
    "    \n",
    "    acc = history_dict['accuracy']\n",
    "    val_acc = history_dict['val_accuracy']\n",
    "    epochs = range(1, len(acc) + 1)\n",
    "    plt.plot(epochs, acc, color = 'navy', alpha = 0.8, label='Training Accuracy')\n",
    "    plt.plot(epochs, val_acc, color = 'green', label='Validation Accuracy')\n",
    "    plt.title('Training and validation Accuracy')\n",
    "    plt.xlabel('Epochs')\n",
    "    plt.ylabel('Accuracy')\n",
    "    plt.legend()\n",
    "    return plt.show()"
   ]
  },
  {
   "cell_type": "code",
   "execution_count": 22,
   "id": "9d6ea650",
   "metadata": {},
   "outputs": [
    {
     "data": {
      "image/png": "[encoded data removed]",
      "text/plain": [
       "<Figure size 432x288 with 1 Axes>"
      ]
     },
     "metadata": {
      "needs_background": "light"
     },
     "output_type": "display_data"
    }
   ],
   "source": [
    "plot_epoch_accuracy(history.history)"
   ]
  },
  {
   "cell_type": "markdown",
   "id": "e6b7b7e7",
   "metadata": {},
   "source": [
    "Not too shabby for a *tiny* neural network! We end up with a validation accuracy of 85-90%.\n",
    "\n",
    "Diagnosing our accuracy plot, it looks like even with more epochs, our model is failing to generalize. The dunning kruger effect in deep learning.\n",
    "\n",
    "One solution is to give our network more nodes/neurons in our hidden layer to extract more features!"
   ]
  },
  {
   "cell_type": "code",
   "execution_count": 23,
   "id": "9048fbcc",
   "metadata": {},
   "outputs": [],
   "source": [
    "second_network = Sequential()\n",
    "second_network.add(Dense(512, activation= \"relu\", input_shape=(28*28,)))\n",
    "second_network.add(Dense(10, activation=\"softmax\"))"
   ]
  },
  {
   "cell_type": "code",
   "execution_count": 24,
   "id": "4929d1e5",
   "metadata": {},
   "outputs": [],
   "source": [
    "second_network.compile(optimizer = 'rmsprop', \n",
    "                     loss = 'categorical_crossentropy',\n",
    "                     metrics = ['accuracy'])"
   ]
  },
  {
   "cell_type": "code",
   "execution_count": 25,
   "id": "c8b65e30",
   "metadata": {},
   "outputs": [
    {
     "name": "stdout",
     "output_type": "stream",
     "text": [
      "Epoch 1/5\n",
      "40/40 [==============================] - 1s 16ms/step - loss: 0.6698 - accuracy: 0.8134 - val_loss: 0.4705 - val_accuracy: 0.8500\n",
      "Epoch 2/5\n",
      "40/40 [==============================] - 0s 10ms/step - loss: 0.3028 - accuracy: 0.9136 - val_loss: 0.3042 - val_accuracy: 0.9140\n",
      "Epoch 3/5\n",
      "40/40 [==============================] - 0s 11ms/step - loss: 0.2209 - accuracy: 0.9426 - val_loss: 0.4138 - val_accuracy: 0.8570\n",
      "Epoch 4/5\n",
      "40/40 [==============================] - 1s 14ms/step - loss: 0.1739 - accuracy: 0.9554 - val_loss: 0.3252 - val_accuracy: 0.8940\n",
      "Epoch 5/5\n",
      "40/40 [==============================] - 0s 12ms/step - loss: 0.1395 - accuracy: 0.9624 - val_loss: 0.2751 - val_accuracy: 0.9140\n"
     ]
    }
   ],
   "source": [
    "history_two = second_network.fit(x_train_trans, \n",
    "                            y_train_trans, \n",
    "                            epochs=5, \n",
    "                            batch_size=128, \n",
    "                            validation_data=(x_val_trans, y_val_trans))"
   ]
  },
  {
   "cell_type": "code",
   "execution_count": 26,
   "id": "a3c3dcbb",
   "metadata": {},
   "outputs": [
    {
     "data": {
      "image/png": "[encoded data removed]",
      "text/plain": [
       "<Figure size 432x288 with 1 Axes>"
      ]
     },
     "metadata": {
      "needs_background": "light"
     },
     "output_type": "display_data"
    }
   ],
   "source": [
    "plot_epoch_accuracy(history_two.history)"
   ]
  },
  {
   "cell_type": "markdown",
   "id": "42e90cc7",
   "metadata": {},
   "source": [
    "How are you doing now?\n",
    "\n",
    "Let's keep training this model for a few more epochs."
   ]
  },
  {
   "cell_type": "code",
   "execution_count": 27,
   "id": "2a718300",
   "metadata": {},
   "outputs": [
    {
     "name": "stdout",
     "output_type": "stream",
     "text": [
      "Epoch 1/10\n",
      "40/40 [==============================] - 1s 12ms/step - loss: 0.1098 - accuracy: 0.9716 - val_loss: 0.2291 - val_accuracy: 0.9220\n",
      "Epoch 2/10\n",
      "40/40 [==============================] - 0s 12ms/step - loss: 0.0889 - accuracy: 0.9762 - val_loss: 0.2111 - val_accuracy: 0.9290\n",
      "Epoch 3/10\n",
      "40/40 [==============================] - 0s 9ms/step - loss: 0.0725 - accuracy: 0.9826 - val_loss: 0.2655 - val_accuracy: 0.9120\n",
      "Epoch 4/10\n",
      "40/40 [==============================] - 0s 10ms/step - loss: 0.0563 - accuracy: 0.9868 - val_loss: 0.1913 - val_accuracy: 0.9450\n",
      "Epoch 5/10\n",
      "40/40 [==============================] - 0s 9ms/step - loss: 0.0431 - accuracy: 0.9912 - val_loss: 0.2880 - val_accuracy: 0.9070\n",
      "Epoch 6/10\n",
      "40/40 [==============================] - 0s 11ms/step - loss: 0.0362 - accuracy: 0.9928 - val_loss: 0.2772 - val_accuracy: 0.9170\n",
      "Epoch 7/10\n",
      "40/40 [==============================] - 0s 12ms/step - loss: 0.0269 - accuracy: 0.9954 - val_loss: 0.2787 - val_accuracy: 0.9290\n",
      "Epoch 8/10\n",
      "40/40 [==============================] - 1s 14ms/step - loss: 0.0188 - accuracy: 0.9982 - val_loss: 0.2428 - val_accuracy: 0.9260\n",
      "Epoch 9/10\n",
      "40/40 [==============================] - 0s 12ms/step - loss: 0.0181 - accuracy: 0.9964 - val_loss: 0.2086 - val_accuracy: 0.9470\n",
      "Epoch 10/10\n",
      "40/40 [==============================] - 0s 12ms/step - loss: 0.0107 - accuracy: 0.9994 - val_loss: 0.2319 - val_accuracy: 0.9360\n"
     ]
    }
   ],
   "source": [
    "history_two_more_epochs = second_network.fit(x_train_trans, \n",
    "                            y_train_trans, \n",
    "                            epochs=10, \n",
    "                            batch_size=128, \n",
    "                            validation_data=(x_val_trans, y_val_trans))"
   ]
  },
  {
   "cell_type": "code",
   "execution_count": 28,
   "id": "1e28a76c",
   "metadata": {},
   "outputs": [],
   "source": [
    "def combined_epoch_plot(history_dicts):\n",
    "    \"\"\"\n",
    "    Combines two history dictionaries for extended epochs.\n",
    "    \"\"\"\n",
    "    \n",
    "    combined_history = {key: [] for key in history_dicts[0].keys()}\n",
    "    \n",
    "    for hist in history_dicts:\n",
    "        for key in combined_history.keys():\n",
    "            combined_history[key].extend(hist[key])\n",
    "    \n",
    "    return plot_epoch_accuracy(combined_history)\n",
    "        \n",
    "        "
   ]
  },
  {
   "cell_type": "code",
   "execution_count": 29,
   "id": "695900f1",
   "metadata": {},
   "outputs": [
    {
     "data": {
      "image/png": "[encoded data removed]",
      "text/plain": [
       "<Figure size 432x288 with 1 Axes>"
      ]
     },
     "metadata": {
      "needs_background": "light"
     },
     "output_type": "display_data"
    }
   ],
   "source": [
    "combined_epoch_plot([history_two.history, history_two_more_epochs.history])"
   ]
  },
  {
   "cell_type": "code",
   "execution_count": 30,
   "id": "13b9e1e8",
   "metadata": {},
   "outputs": [],
   "source": [
    "third_network = Sequential()\n",
    "third_network.add(Dense(512, activation= \"relu\", input_shape=(28*28,)))\n",
    "third_network.add(Dense(512, activation= \"relu\"))\n",
    "third_network.add(Dense(10, activation=\"softmax\"))"
   ]
  },
  {
   "cell_type": "code",
   "execution_count": 31,
   "id": "9dd1076f",
   "metadata": {},
   "outputs": [],
   "source": [
    "third_network.compile(optimizer = 'rmsprop', \n",
    "                     loss = 'categorical_crossentropy',\n",
    "                     metrics = ['accuracy'])"
   ]
  },
  {
   "cell_type": "code",
   "execution_count": 32,
   "id": "c3e262e0",
   "metadata": {
    "scrolled": false
   },
   "outputs": [
    {
     "name": "stdout",
     "output_type": "stream",
     "text": [
      "Epoch 1/10\n",
      "40/40 [==============================] - 1s 19ms/step - loss: 0.6686 - accuracy: 0.7888 - val_loss: 0.3993 - val_accuracy: 0.8730\n",
      "Epoch 2/10\n",
      "40/40 [==============================] - 1s 13ms/step - loss: 0.2740 - accuracy: 0.9162 - val_loss: 0.4697 - val_accuracy: 0.8480\n",
      "Epoch 3/10\n",
      "40/40 [==============================] - 1s 15ms/step - loss: 0.1577 - accuracy: 0.9518 - val_loss: 0.2020 - val_accuracy: 0.9450\n",
      "Epoch 4/10\n",
      "40/40 [==============================] - 1s 13ms/step - loss: 0.1152 - accuracy: 0.9642 - val_loss: 0.4727 - val_accuracy: 0.8710\n",
      "Epoch 5/10\n",
      "40/40 [==============================] - 1s 14ms/step - loss: 0.0765 - accuracy: 0.9776 - val_loss: 0.1458 - val_accuracy: 0.9550\n",
      "Epoch 6/10\n",
      "40/40 [==============================] - 0s 11ms/step - loss: 0.0570 - accuracy: 0.9832 - val_loss: 0.1757 - val_accuracy: 0.9480\n",
      "Epoch 7/10\n",
      "40/40 [==============================] - 0s 12ms/step - loss: 0.0355 - accuracy: 0.9896 - val_loss: 0.1965 - val_accuracy: 0.9460\n",
      "Epoch 8/10\n",
      "40/40 [==============================] - 1s 13ms/step - loss: 0.0202 - accuracy: 0.9942 - val_loss: 0.1688 - val_accuracy: 0.9570\n",
      "Epoch 9/10\n",
      "40/40 [==============================] - 0s 12ms/step - loss: 0.0203 - accuracy: 0.9948 - val_loss: 0.1900 - val_accuracy: 0.9470\n",
      "Epoch 10/10\n",
      "40/40 [==============================] - 0s 11ms/step - loss: 0.0120 - accuracy: 0.9960 - val_loss: 0.1844 - val_accuracy: 0.9520\n"
     ]
    }
   ],
   "source": [
    "history_two_layers = third_network.fit(x_train_trans, \n",
    "                            y_train_trans, \n",
    "                            epochs=10, \n",
    "                            batch_size=128, \n",
    "                            validation_data=(x_val_trans, y_val_trans))"
   ]
  },
  {
   "cell_type": "code",
   "execution_count": 33,
   "id": "250d892f",
   "metadata": {},
   "outputs": [
    {
     "data": {
      "image/png": "[encoded data removed]",
      "text/plain": [
       "<Figure size 432x288 with 1 Axes>"
      ]
     },
     "metadata": {
      "needs_background": "light"
     },
     "output_type": "display_data"
    }
   ],
   "source": [
    "plot_epoch_accuracy(history_two_layers.history)"
   ]
  },
  {
   "cell_type": "markdown",
   "id": "92ae52cb",
   "metadata": {},
   "source": [
    "Our model is still failing to generalize and reach maximum validation accuracy!\n",
    "\n",
    "One way we can prevent our model from overfitting is to add dropout layers."
   ]
  },
  {
   "cell_type": "code",
   "execution_count": 34,
   "id": "3ff735c1",
   "metadata": {},
   "outputs": [],
   "source": [
    "fourth_network = Sequential()\n",
    "fourth_network.add(Dense(512, activation= \"relu\", input_shape=(28*28,)))\n",
    "fourth_network.add(Dropout(0.5))\n",
    "fourth_network.add(Dense(512, activation= \"relu\"))\n",
    "fourth_network.add(Dropout(0.5))\n",
    "fourth_network.add(Dense(10, activation=\"softmax\"))"
   ]
  },
  {
   "cell_type": "code",
   "execution_count": 35,
   "id": "73f2d243",
   "metadata": {},
   "outputs": [],
   "source": [
    "fourth_network.compile(optimizer = 'rmsprop', \n",
    "                     loss = 'categorical_crossentropy',\n",
    "                     metrics = ['accuracy'])"
   ]
  },
  {
   "cell_type": "code",
   "execution_count": 36,
   "id": "f8f366fb",
   "metadata": {},
   "outputs": [
    {
     "name": "stdout",
     "output_type": "stream",
     "text": [
      "Epoch 1/20\n",
      "40/40 [==============================] - 2s 21ms/step - loss: 0.8946 - accuracy: 0.7148 - val_loss: 0.4285 - val_accuracy: 0.8640\n",
      "Epoch 2/20\n",
      "40/40 [==============================] - 1s 15ms/step - loss: 0.4093 - accuracy: 0.8768 - val_loss: 0.3165 - val_accuracy: 0.8970\n",
      "Epoch 3/20\n",
      "40/40 [==============================] - 1s 15ms/step - loss: 0.3185 - accuracy: 0.9058 - val_loss: 0.2423 - val_accuracy: 0.9230\n",
      "Epoch 4/20\n",
      "40/40 [==============================] - 1s 17ms/step - loss: 0.2436 - accuracy: 0.9284 - val_loss: 0.2132 - val_accuracy: 0.9270\n",
      "Epoch 5/20\n",
      "40/40 [==============================] - 1s 20ms/step - loss: 0.1913 - accuracy: 0.9430 - val_loss: 0.2685 - val_accuracy: 0.9160\n",
      "Epoch 6/20\n",
      "40/40 [==============================] - 1s 15ms/step - loss: 0.1735 - accuracy: 0.9470 - val_loss: 0.2217 - val_accuracy: 0.9310\n",
      "Epoch 7/20\n",
      "40/40 [==============================] - 1s 15ms/step - loss: 0.1417 - accuracy: 0.9564 - val_loss: 0.1903 - val_accuracy: 0.9400\n",
      "Epoch 8/20\n",
      "40/40 [==============================] - 1s 13ms/step - loss: 0.1197 - accuracy: 0.9618 - val_loss: 0.1801 - val_accuracy: 0.9510\n",
      "Epoch 9/20\n",
      "40/40 [==============================] - 1s 14ms/step - loss: 0.1107 - accuracy: 0.9636 - val_loss: 0.1988 - val_accuracy: 0.9400\n",
      "Epoch 10/20\n",
      "40/40 [==============================] - 1s 15ms/step - loss: 0.0892 - accuracy: 0.9710 - val_loss: 0.1805 - val_accuracy: 0.9500\n",
      "Epoch 11/20\n",
      "40/40 [==============================] - 1s 17ms/step - loss: 0.0665 - accuracy: 0.9796 - val_loss: 0.1576 - val_accuracy: 0.9610\n",
      "Epoch 12/20\n",
      "40/40 [==============================] - 1s 16ms/step - loss: 0.0737 - accuracy: 0.9794 - val_loss: 0.1819 - val_accuracy: 0.9550\n",
      "Epoch 13/20\n",
      "40/40 [==============================] - 1s 17ms/step - loss: 0.0592 - accuracy: 0.9824 - val_loss: 0.1963 - val_accuracy: 0.9520\n",
      "Epoch 14/20\n",
      "40/40 [==============================] - 0s 12ms/step - loss: 0.0537 - accuracy: 0.9818 - val_loss: 0.1995 - val_accuracy: 0.9510\n",
      "Epoch 15/20\n",
      "40/40 [==============================] - 0s 12ms/step - loss: 0.0460 - accuracy: 0.9846 - val_loss: 0.1676 - val_accuracy: 0.9570\n",
      "Epoch 16/20\n",
      "40/40 [==============================] - 0s 12ms/step - loss: 0.0441 - accuracy: 0.9860 - val_loss: 0.1718 - val_accuracy: 0.9620\n",
      "Epoch 17/20\n",
      "40/40 [==============================] - 0s 12ms/step - loss: 0.0376 - accuracy: 0.9884 - val_loss: 0.2398 - val_accuracy: 0.9490\n",
      "Epoch 18/20\n",
      "40/40 [==============================] - 0s 12ms/step - loss: 0.0395 - accuracy: 0.9872 - val_loss: 0.2226 - val_accuracy: 0.9540\n",
      "Epoch 19/20\n",
      "40/40 [==============================] - 1s 12ms/step - loss: 0.0397 - accuracy: 0.9852 - val_loss: 0.2006 - val_accuracy: 0.9540\n",
      "Epoch 20/20\n",
      "40/40 [==============================] - 0s 12ms/step - loss: 0.0339 - accuracy: 0.9884 - val_loss: 0.2054 - val_accuracy: 0.9540\n"
     ]
    }
   ],
   "source": [
    "history_dropout = fourth_network.fit(x_train_trans, \n",
    "                            y_train_trans, \n",
    "                            epochs=20, \n",
    "                            batch_size=128, \n",
    "                            validation_data=(x_val_trans, y_val_trans))"
   ]
  },
  {
   "cell_type": "code",
   "execution_count": 37,
   "id": "fe63f132",
   "metadata": {},
   "outputs": [
    {
     "data": {
      "image/png": "[encoded data removed]",
      "text/plain": [
       "<Figure size 432x288 with 1 Axes>"
      ]
     },
     "metadata": {
      "needs_background": "light"
     },
     "output_type": "display_data"
    }
   ],
   "source": [
    "plot_epoch_accuracy(history_dropout.history)"
   ]
  },
  {
   "cell_type": "markdown",
   "id": "a4a24c3b",
   "metadata": {},
   "source": [
    "## Challenge 2: Build your own neural network\n",
    "\n",
    "1. Try training a new neural network that has a different:\n",
    "    - Architecture\n",
    "    - Activation Function\n",
    "    - Epochs\n",
    "2. How does the validation accuracy compare to the one we made?"
   ]
  },
  {
   "cell_type": "code",
   "execution_count": null,
   "id": "303e16f0",
   "metadata": {},
   "outputs": [],
   "source": []
  },
  {
   "cell_type": "markdown",
   "id": "ca9a307c",
   "metadata": {},
   "source": [
    "Now that we are satisfied with this model, let's see how it performs on our holdout test set!"
   ]
  },
  {
   "cell_type": "code",
   "execution_count": 59,
   "id": "e53264eb",
   "metadata": {},
   "outputs": [],
   "source": [
    "def get_model_accuracy(model, x_test, y_test):\n",
    "    \"\"\"\n",
    "    Takes a model and a test set of data.\n",
    "    Returns the accuracy.\n",
    "    \"\"\"\n",
    "    \n",
    "    score = model.evaluate(x_test, y_test, verbose=0)\n",
    "    \n",
    "    accuracy = round(score[1]*100, 1)\n",
    "    \n",
    "    return accuracy"
   ]
  },
  {
   "cell_type": "code",
   "execution_count": 60,
   "id": "ceeb9521",
   "metadata": {},
   "outputs": [
    {
     "data": {
      "text/plain": [
       "93.6"
      ]
     },
     "execution_count": 60,
     "metadata": {},
     "output_type": "execute_result"
    }
   ],
   "source": [
    "get_model_accuracy(fourth_network, x_test_trans, y_test_trans)"
   ]
  },
  {
   "cell_type": "markdown",
   "id": "c96c43ff",
   "metadata": {},
   "source": [
    "How does this compare with our other models?"
   ]
  },
  {
   "cell_type": "code",
   "execution_count": 61,
   "id": "974dc653",
   "metadata": {},
   "outputs": [
    {
     "name": "stdout",
     "output_type": "stream",
     "text": [
      "Model 1 has an accuracy of 88.7%\n",
      "Model 2 has an accuracy of 92.0%\n",
      "Model 3 has an accuracy of 92.9%\n",
      "Model 4 has an accuracy of 93.6%\n"
     ]
    }
   ],
   "source": [
    "for i, mod in enumerate([first_network, second_network, third_network, fourth_network]):\n",
    "    acc = get_model_accuracy(mod, x_test_trans, y_test_trans)\n",
    "    print(f\"Model {i+1} has an accuracy of {acc}%\")"
   ]
  },
  {
   "cell_type": "markdown",
   "id": "1bed1dea",
   "metadata": {},
   "source": [
    "## Challenge 3: Evaluate your own model\n",
    "\n",
    "Use your own model from challenge 2 to evaluate its performance on the test set!"
   ]
  },
  {
   "cell_type": "code",
   "execution_count": null,
   "id": "5916e30d",
   "metadata": {},
   "outputs": [],
   "source": []
  },
  {
   "cell_type": "markdown",
   "id": "4cd1b345",
   "metadata": {},
   "source": [
    "### Visualize the test results"
   ]
  },
  {
   "cell_type": "code",
   "execution_count": 46,
   "id": "427945c0",
   "metadata": {},
   "outputs": [],
   "source": [
    "def plot_wrong_predictions(model, x_test, y_test):\n",
    "    \"\"\"\n",
    "    Plots 25 incorrectly predicted images.\n",
    "    \"\"\"\n",
    "    \n",
    "    # Back transform images\n",
    "    x_images = x_test.reshape(x_test.shape[0], 28, 28)\n",
    "    \n",
    "    # Format predictions and targets\n",
    "    predictions = model.predict(x_test)\n",
    "    predicted = np.argmax(predictions, axis=1)\n",
    "    target = np.argmax(y_test, axis = 1)\n",
    "    \n",
    "    # Get wrong indices\n",
    "    wrong_indices = np.where(predicted != target)[0]\n",
    "    \n",
    "    fig, axes = plt.subplots(5,5, figsize = (25,25))\n",
    "    axes = axes.ravel()\n",
    "    \n",
    "    for ax, index in zip(axes, wrong_indices[:26]):\n",
    "        ax.imshow(x_images[index], cmap=plt.cm.binary, interpolation='nearest')\n",
    "        ax.set_title(f\"Predicted {predicted[index]}, Actual is {target[index]}\")\n",
    "    \n",
    "    return plt.show()"
   ]
  },
  {
   "cell_type": "code",
   "execution_count": 47,
   "id": "d6513237",
   "metadata": {},
   "outputs": [
    {
     "data": {
      "image/png": "[encoded data removed]",
      "text/plain": [
       "<Figure size 1800x1800 with 25 Axes>"
      ]
     },
     "metadata": {
      "needs_background": "light"
     },
     "output_type": "display_data"
    }
   ],
   "source": [
    "plot_wrong_predictions(fourth_network, x_test_trans, y_test_trans)"
   ]
  },
  {
   "cell_type": "markdown",
   "id": "b819253a",
   "metadata": {},
   "source": [
    "Do you feel our model made reasonable mistakes?"
   ]
  },
  {
   "cell_type": "markdown",
   "id": "6e080295",
   "metadata": {},
   "source": [
    "### Convolutional Neural Networks (CNNs)"
   ]
  },
  {
   "cell_type": "markdown",
   "id": "4556d32e",
   "metadata": {},
   "source": [
    "The neural networks we have created so far are known as *vanilla neural networks*. \n",
    "\n",
    "These have many great usecases, but for problems in computer vision, we often use a different architecture called covolutional neural networks.\n",
    "\n",
    "We will review the the details of how the work in our slides tomorrow, but for today, let's just compare their efficacy to vanilla neural nets!"
   ]
  },
  {
   "cell_type": "code",
   "execution_count": 48,
   "id": "3044c718",
   "metadata": {},
   "outputs": [],
   "source": [
    "from keras.layers import Conv2D\n",
    "from keras.layers import MaxPooling2D\n",
    "from keras.layers import Flatten"
   ]
  },
  {
   "cell_type": "code",
   "execution_count": 49,
   "id": "08fc6ae1",
   "metadata": {},
   "outputs": [],
   "source": [
    "convnet = Sequential()\n",
    "\n",
    "convnet.add(Conv2D(32, (3, 3), activation='relu', input_shape=(28, 28, 1)))\n",
    "convnet.add(MaxPooling2D((2, 2)))\n",
    "convnet.add(Conv2D(64, (3, 3), activation='relu'))\n",
    "convnet.add(MaxPooling2D((2, 2)))\n",
    "convnet.add(Conv2D(64, (3, 3), activation='relu'))\n",
    "\n",
    "convnet.add(Flatten())\n",
    "convnet.add(Dense(64, activation='relu'))\n",
    "convnet.add(Dense(10, activation='softmax'))\n",
    "\n",
    "convnet.compile(optimizer='rmsprop',\n",
    "                loss='categorical_crossentropy',\n",
    "                metrics=['accuracy'])"
   ]
  },
  {
   "cell_type": "markdown",
   "id": "1d3832f0",
   "metadata": {},
   "source": [
    "Since our convnet has a *sense* of the two-dimensional image, we need to back transform our images to be two dimensional.\n",
    "\n",
    "Why not use the original pixel data then?\n",
    "\n",
    "We still want to keep the transformation of values between \\[0, 1\\]."
   ]
  },
  {
   "cell_type": "code",
   "execution_count": 50,
   "id": "4ff9eaa2",
   "metadata": {},
   "outputs": [],
   "source": [
    "def back_transform_2d(data):\n",
    "    \"\"\"\n",
    "    Takes a list of flattened input pixel data.\n",
    "    Reshapes pixel data from a single vector to two dimensions.\n",
    "    \"\"\"\n",
    "    \n",
    "    two_dimensional_data = []\n",
    "    \n",
    "    for d in data:\n",
    "        transformed = d.reshape(d.shape[0], 28, 28, 1)\n",
    "        two_dimensional_data.append(transformed)\n",
    "    \n",
    "    return [t for t in two_dimensional_data]\n",
    "    "
   ]
  },
  {
   "cell_type": "code",
   "execution_count": 51,
   "id": "62a5cf00",
   "metadata": {},
   "outputs": [],
   "source": [
    "x_train_2d, x_val_2d, x_test_2d = back_transform_2d([x_train_trans, x_val_trans, x_test_trans])"
   ]
  },
  {
   "cell_type": "code",
   "execution_count": 52,
   "id": "0fa6ce29",
   "metadata": {},
   "outputs": [
    {
     "data": {
      "text/plain": [
       "(5000, 28, 28, 1)"
      ]
     },
     "execution_count": 52,
     "metadata": {},
     "output_type": "execute_result"
    }
   ],
   "source": [
    "x_train_2d.shape"
   ]
  },
  {
   "cell_type": "code",
   "execution_count": 53,
   "id": "630d6368",
   "metadata": {},
   "outputs": [
    {
     "name": "stdout",
     "output_type": "stream",
     "text": [
      "Epoch 1/10\n",
      "40/40 [==============================] - 3s 59ms/step - loss: 1.0267 - accuracy: 0.6722 - val_loss: 0.6717 - val_accuracy: 0.7940\n",
      "Epoch 2/10\n",
      "40/40 [==============================] - 2s 50ms/step - loss: 0.3522 - accuracy: 0.8924 - val_loss: 0.3659 - val_accuracy: 0.8870\n",
      "Epoch 3/10\n",
      "40/40 [==============================] - 2s 54ms/step - loss: 0.2282 - accuracy: 0.9300 - val_loss: 0.3894 - val_accuracy: 0.8810\n",
      "Epoch 4/10\n",
      "40/40 [==============================] - 3s 69ms/step - loss: 0.1709 - accuracy: 0.9474 - val_loss: 0.4150 - val_accuracy: 0.8600\n",
      "Epoch 5/10\n",
      "40/40 [==============================] - 2s 55ms/step - loss: 0.1255 - accuracy: 0.9622 - val_loss: 0.1480 - val_accuracy: 0.9530\n",
      "Epoch 6/10\n",
      "40/40 [==============================] - 2s 50ms/step - loss: 0.1055 - accuracy: 0.9664 - val_loss: 0.1237 - val_accuracy: 0.9660\n",
      "Epoch 7/10\n",
      "40/40 [==============================] - 2s 49ms/step - loss: 0.0813 - accuracy: 0.9742 - val_loss: 0.1249 - val_accuracy: 0.9600\n",
      "Epoch 8/10\n",
      "40/40 [==============================] - 2s 50ms/step - loss: 0.0687 - accuracy: 0.9810 - val_loss: 0.2686 - val_accuracy: 0.9150\n",
      "Epoch 9/10\n",
      "40/40 [==============================] - 2s 48ms/step - loss: 0.0546 - accuracy: 0.9848 - val_loss: 0.0950 - val_accuracy: 0.9750\n",
      "Epoch 10/10\n",
      "40/40 [==============================] - 2s 57ms/step - loss: 0.0493 - accuracy: 0.9836 - val_loss: 0.0971 - val_accuracy: 0.9740\n"
     ]
    }
   ],
   "source": [
    "history_convnet = convnet.fit(x_train_2d,\n",
    "                              y_train_trans, \n",
    "                              epochs=10, \n",
    "                              batch_size=128, \n",
    "                              validation_data=(x_val_2d, y_val_trans))"
   ]
  },
  {
   "cell_type": "code",
   "execution_count": 54,
   "id": "ac3ed138",
   "metadata": {},
   "outputs": [
    {
     "data": {
      "image/png": "[encoded data removed]",
      "text/plain": [
       "<Figure size 432x288 with 1 Axes>"
      ]
     },
     "metadata": {
      "needs_background": "light"
     },
     "output_type": "display_data"
    }
   ],
   "source": [
    "plot_epoch_accuracy(history_convnet.history)"
   ]
  },
  {
   "cell_type": "markdown",
   "id": "8002e6e7",
   "metadata": {},
   "source": [
    "So how well does our CNN perform on the test set?"
   ]
  },
  {
   "cell_type": "code",
   "execution_count": 64,
   "id": "80cffbca",
   "metadata": {},
   "outputs": [
    {
     "data": {
      "text/plain": [
       "96.9"
      ]
     },
     "execution_count": 64,
     "metadata": {},
     "output_type": "execute_result"
    }
   ],
   "source": [
    "get_model_accuracy(convnet,x_test_2d, y_test_trans)"
   ]
  },
  {
   "cell_type": "code",
   "execution_count": null,
   "id": "32fba9a4",
   "metadata": {},
   "outputs": [],
   "source": []
  }
 ],
 "metadata": {
  "kernelspec": {
   "display_name": "Python 3 (ipykernel)",
   "language": "python",
   "name": "python3"
  },
  "language_info": {
   "codemirror_mode": {
    "name": "ipython",
    "version": 3
   },
   "file_extension": ".py",
   "mimetype": "text/x-python",
   "name": "python",
   "nbconvert_exporter": "python",
   "pygments_lexer": "ipython3",
   "version": "3.9.10"
  }
 },
 "nbformat": 4,
 "nbformat_minor": 5
}
